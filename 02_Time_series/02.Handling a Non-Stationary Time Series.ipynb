{
 "cells": [
  {
   "cell_type": "markdown",
   "metadata": {},
   "source": [
    "## Handling a Non-Stationary Time Series\n",
    "\n",
    "- ‘Stationarity’ is one of the most important concepts you will come across when working with time series data. A stationary series is one in which the properties – mean, variance and covariance, do not vary with time.\n",
    "\n",
    "<img src=\"5.png\">\n",
    "\n",
    "- In the first plot, we can clearly see that the mean varies (increases) with time which results in an upward trend. Thus, this is a non-stationary series. For a series to be classified as stationary, it should not exhibit a trend.\n",
    "-  on to the second plot, we certainly do not see a trend in the series, but the variance of the series is a function of time. As mentioned previously, a stationary series must have a constant variance.\n",
    "- If you look at the third plot, the spread becomes closer as the time increases, which implies that the covariance is a function of time.\n",
    "- The three examples shown above represent non-stationary time series. Now look at stationary time-series\n",
    "<img src=\"6.png\">\n",
    "- In this case, the mean, variance and covariance are constant with time. This is what a stationary time series looks like.\n",
    "- So to summarize, a stationary time series is the one for which the properties (namely mean, variance and covariance) do not depend on time. In the next section we will cover various methods to check if the given series is stationary or not."
   ]
  },
  {
   "cell_type": "markdown",
   "metadata": {},
   "source": [
    "## Methods to Check Stationarity\n",
    "\n",
    "#### 1. Visual test :- \n",
    "- Code train['feature_name'].plot() By run this it produce the graph like \n",
    "<img src=\"7.png\" style=\"height:250px\">\n",
    "\n",
    "- Although its very clear that we have a trend (varying mean) in the above series, this visual approach might not always give accurate results. It is better to confirm the observations using some statistical tests.\n",
    "\n",
    "#### 2. Statistical test (ADF (Augmented Dickey Fuller) Test):- \n",
    "\n",
    "- The Dickey Fuller test is one of the most popular statistical tests. It can be used to determine the presence of unit root in the series, and hence help us understand if the series is stationary or not. The null and alternate hypothesis of this test are:\n",
    "\n",
    "                - Null Hypothesis: The series has a unit root (value of a =1)(not stationary)\n",
    "\n",
    "                - Alternate Hypothesis: The series has no unit root.(stationary)\n",
    "\n",
    "- If we fail to reject the null hypothesis, we can say that the series is non-stationary. This means that the series can be linear or difference stationary (we will understand more about difference stationary in the next section)."
   ]
  },
  {
   "cell_type": "raw",
   "metadata": {},
   "source": [
    "#Ho: It is non stationary\n",
    "#H1: It is stationary\n",
    "\n",
    "## Augmented Dickey Fuller) Test\n",
    "from statsmodels.tsa.stattools import adfuller\n",
    "def adfuller_test(sales):\n",
    "    result=adfuller(sales)\n",
    "    labels = ['ADF Test Statistic','p-value','#Lags Used','Number of Observations Used']\n",
    "    for value,label in zip(result,labels):\n",
    "        print(label+' : '+str(value) )\n",
    "    if result[1] <= 0.05:\n",
    "        print(\"strong evidence against the null hypothesis(Ho), reject the null hypothesis. Data has no unit root and is stationary\")\n",
    "    else:\n",
    "        print(\"weak evidence against null hypothesis, time series has a unit root, indicating it is non-stationary \")"
   ]
  },
  {
   "cell_type": "markdown",
   "metadata": {},
   "source": [
    "## Making a Time Series Stationary\n",
    "\n",
    "### 1. Differencing :-\n",
    "- In this method, we compute the difference of consecutive terms in the series. Differencing is typically performed to get rid of the varying mean. Mathematically, differencing can be written as:\n",
    "\n",
    "                                                yt‘ = yt – y(t-1)\n",
    "\n",
    "- where yt is the value at a time t\n",
    "- Applying differencing on our series and plotting the results:"
   ]
  },
  {
   "cell_type": "raw",
   "metadata": {},
   "source": [
    "train['col_diff'] = train['col_name'] - train['col_name'].shift(1)\n",
    "train['col_diff'].dropna().plot()"
   ]
  },
  {
   "cell_type": "markdown",
   "metadata": {},
   "source": [
    "### 2.  Seasonal Differencing :- \n",
    "- In seasonal differencing, instead of calculating the difference between consecutive values, we calculate the difference between an observation and a previous observation from the same season. \n",
    "- For example, an observation taken on a Monday will be subtracted from an observation taken on the previous Monday. Mathematically it can be written as:\n",
    "\n",
    "                                                    yt‘ = yt – y(t-n)"
   ]
  },
  {
   "cell_type": "raw",
   "metadata": {},
   "source": [
    "n=7\n",
    "train['Col_seasonal_diff'] = train['Col_name'] - train['col_name'].shift(n)"
   ]
  },
  {
   "cell_type": "markdown",
   "metadata": {},
   "source": [
    "### 3. Transformation\n",
    "- Transformations are used to stabilize the non-constant variance of a series. Common transformation methods include power transform, square root, and log transform. "
   ]
  },
  {
   "cell_type": "raw",
   "metadata": {},
   "source": [
    "train['col_log'] = np.log(train['col_name'])\n",
    "train['col_log_diff'] = train['col_log'] - train['col_log'].shift(1)\n",
    "train['col_log_diff'].dropna().plot()"
   ]
  },
  {
   "cell_type": "code",
   "execution_count": null,
   "metadata": {},
   "outputs": [],
   "source": []
  }
 ],
 "metadata": {
  "kernelspec": {
   "display_name": "Python 3",
   "language": "python",
   "name": "python3"
  },
  "language_info": {
   "codemirror_mode": {
    "name": "ipython",
    "version": 3
   },
   "file_extension": ".py",
   "mimetype": "text/x-python",
   "name": "python",
   "nbconvert_exporter": "python",
   "pygments_lexer": "ipython3",
   "version": "3.7.6"
  }
 },
 "nbformat": 4,
 "nbformat_minor": 4
}
