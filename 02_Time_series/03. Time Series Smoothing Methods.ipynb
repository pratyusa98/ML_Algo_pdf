{
 "cells": [
  {
   "cell_type": "markdown",
   "metadata": {},
   "source": [
    "## Time Series Smoothing Methods\n",
    "- Smoothing techniques are kinds of data preprocessing techniques to remove noise from a data set. This allows important patterns to stand out.In market analysis, smoothed data is preferred because it generally identifies changes in the economy compared to unsmoothed data.\n",
    "- The idea behind data smoothing is that it can identify simplified changes to help predict different trends and patterns. It acts as an aid for statisticians or traders who need to look at a lot of data.\n",
    "\n",
    "- four major smoothing technique are\n",
    "                1. Moving average smoothing\n",
    "                2. Exponential smoothing\n",
    "                3. Double exponential smoothing\n",
    "                4. Triple exponential smoothing"
   ]
  },
  {
   "cell_type": "markdown",
   "metadata": {},
   "source": [
    "## 1. Moving average smoothing\n",
    "- It is a simple and common type of smoothing used in time series analysis and forecasting. Here time series derived from the average of last kth elements of the series.\n",
    "<img src=\"8.png\">"
   ]
  },
  {
   "cell_type": "markdown",
   "metadata": {},
   "source": [
    "## 2. Exponential smoothing\n",
    "- Exponential smoothing is a weighted moving average technique. In the moving average smoothing the past observations are weighted equally, In this case smoothing is done by assigning exponentially decreasing weights to the past observations.\n",
    "\n",
    "<img src=\"9.png\">\n",
    "\n",
    "- In the above equation, we can see that (1−α) is multiplied by the previously expected value St-1 which is derived using the same formula.\n",
    "- which makes the expression recursive and if you were to write it all out on paper you would quickly see that (1−α) is multiplied by itself again and again. And this is why this method is called exponential."
   ]
  },
  {
   "cell_type": "markdown",
   "metadata": {},
   "source": [
    "## 3. Double exponential smoothing\n",
    "- Single Smoothing does not excel in the data when there is a trend. This situation can be improved by the introduction of a second equation with a second constant β.\n",
    "- it is suitable to model the time series with the trend but without seasonality.\n",
    "\n",
    "<img src=\"10.png\">\n",
    "\n",
    "Here it is seen that α is used for smoothing the level and β is used for smoothing the trend."
   ]
  },
  {
   "cell_type": "markdown",
   "metadata": {},
   "source": [
    "## 4. Triple exponential smoothing\n",
    "- It is also called as Holt-winters exponential smoothing .it is used to handle the time series data containing a seasonal component.\n",
    "- double smoothing will not work in case of data contain seasonality.so that for smoothing the seasonality a third equation is introduced.\n",
    "\n",
    "<img src=\"11.png\">\n",
    "\n",
    "In the above ϕ is the damping constant. α, β, and γ must be estimated in such a way that the MSE(Mean Square Error) of the error is minimized."
   ]
  }
 ],
 "metadata": {
  "kernelspec": {
   "display_name": "Python 3",
   "language": "python",
   "name": "python3"
  },
  "language_info": {
   "codemirror_mode": {
    "name": "ipython",
    "version": 3
   },
   "file_extension": ".py",
   "mimetype": "text/x-python",
   "name": "python",
   "nbconvert_exporter": "python",
   "pygments_lexer": "ipython3",
   "version": "3.7.6"
  }
 },
 "nbformat": 4,
 "nbformat_minor": 4
}
