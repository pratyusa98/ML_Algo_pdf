{
 "cells": [
  {
   "cell_type": "markdown",
   "metadata": {},
   "source": [
    "## What is a Time Series?\n",
    "- It is a series of observations taken at specified times basically at equal intervals.\n",
    "- It is used to predict future values based on past observed values. The components you might observe in the time-series analysis are Trend, Seasonal, Irregular, and Cyclicity.\n",
    "\n",
    "- Two Types Of Time Series Analysis\n",
    "         1. Univariate Time Series:- where only one variable is observed at each time\n",
    "         2. Multivariate Time Series :- two or more variables are observed at each time \n",
    "         \n",
    "<img src=\"1.jpg\" style=\"height:550px\">"
   ]
  },
  {
   "cell_type": "markdown",
   "metadata": {},
   "source": [
    "## 1. Trend\n",
    "- Two Types Up Trend And Down Trend.\n",
    "-  The linear increasing or decreasing behavior of the series over time.\n",
    "\n",
    "<img src=\"1.png\" style=\"height:250px;\">"
   ]
  },
  {
   "cell_type": "markdown",
   "metadata": {},
   "source": [
    "## 2. Seasonality\n",
    "- Seasonality refers to periodic fluctuations. \n",
    "- For example, electricity consumption is high during the day and low during night, or online sales increase during Christmas before slowing down again.\n",
    "\n",
    "<img src=\"2.png\">\n",
    "\n",
    "- As you can see above, there is a clear daily seasonality. Every day, you see a peak towards the evening, and the lowest points are the beginning and the end of each day."
   ]
  },
  {
   "cell_type": "markdown",
   "metadata": {},
   "source": [
    "## 3. Cyclic Variations\n",
    "- The variations in a time series which operate themselves over a span of more than one year are the cyclic variations. This oscillatory movement has a period of oscillation of more than a year. One complete period is a cycle. This cyclic movement is sometimes called the ‘Business Cycle’.\n",
    "\n",
    "\n",
    "## 4. Random or Irregular Movements\n",
    "- It causes the variation in the variable under study. This is not regular variations and are purely random or irregular. These fluctuations are unforeseen, uncontrollable, unpredictable, and are erratic. These forces are earthquakes, wars, flood, famines, and any other disasters.\n",
    "\n",
    "\n",
    "<img src=\"4.png\"  style=\"height:350px\">"
   ]
  },
  {
   "cell_type": "markdown",
   "metadata": {},
   "source": [
    "## 5. Stationarity\n",
    "\n",
    "- Stationarity is an important characteristic of time series. \n",
    "- A time series is said to be stationary if its statistical properties(mean,variance) do not change over time. In other words, it has constant mean and variance, and covariance is independent of time.\n",
    "\n",
    "<img src=\"2.png\">\n",
    "\n",
    "- Looking again at the same plot, we see that the process above is stationary. The mean and variance do not vary over time."
   ]
  }
 ],
 "metadata": {
  "kernelspec": {
   "display_name": "Python 3",
   "language": "python",
   "name": "python3"
  },
  "language_info": {
   "codemirror_mode": {
    "name": "ipython",
    "version": 3
   },
   "file_extension": ".py",
   "mimetype": "text/x-python",
   "name": "python",
   "nbconvert_exporter": "python",
   "pygments_lexer": "ipython3",
   "version": "3.7.6"
  }
 },
 "nbformat": 4,
 "nbformat_minor": 4
}
