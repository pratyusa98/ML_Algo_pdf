{
 "cells": [
  {
   "cell_type": "markdown",
   "metadata": {},
   "source": [
    "## Comparison between various optimizers"
   ]
  },
  {
   "cell_type": "markdown",
   "metadata": {},
   "source": [
    "<img src=\"2.gif\" style=\"height:500px\">\n",
    "\n",
    "- In the animation above it is observed that the SGD algorithm (red) is stuck at a saddle point. So SGD algorithm can only be used for small networks.\n",
    "- All the other algorithms except SGD finally converges one after the other, AdaDelta (yellow) being the fastest followed by momentum algorithms.\n",
    "- AdaGrad and AdaDelta algorithm can be used for sparse data.\n",
    "- Momentum and NAG work well for most cases but is slower.\n",
    "- Animation for Adam is not available but from the plot above it is observed that it is the fastest algorithm to converge to minima.\n",
    "- Adam is considered the best algorithm amongst all the algorithms discussed above."
   ]
  },
  {
   "cell_type": "markdown",
   "metadata": {},
   "source": []
  },
  {
   "cell_type": "markdown",
   "metadata": {},
   "source": []
  },
  {
   "cell_type": "markdown",
   "metadata": {},
   "source": []
  },
  {
   "cell_type": "markdown",
   "metadata": {},
   "source": []
  },
  {
   "cell_type": "markdown",
   "metadata": {},
   "source": [
    "## Difference Between All Gradient Descent Type"
   ]
  },
  {
   "cell_type": "markdown",
   "metadata": {},
   "source": [
    "<img src=\"55.png\">\n",
    "<img src=\"54.png\">\n",
    "\n",
    "- Adam is the best optimizers. If one wants to train the neural network in less time and more efficiently than Adam is the optimizer.\n",
    "- For sparse data use the optimizers with dynamic learning rate.\n",
    "- If, want to use gradient descent algorithm than min-batch gradient descent is the best option."
   ]
  }
 ],
 "metadata": {
  "kernelspec": {
   "display_name": "Python 3",
   "language": "python",
   "name": "python3"
  },
  "language_info": {
   "codemirror_mode": {
    "name": "ipython",
    "version": 3
   },
   "file_extension": ".py",
   "mimetype": "text/x-python",
   "name": "python",
   "nbconvert_exporter": "python",
   "pygments_lexer": "ipython3",
   "version": "3.7.6"
  }
 },
 "nbformat": 4,
 "nbformat_minor": 4
}
