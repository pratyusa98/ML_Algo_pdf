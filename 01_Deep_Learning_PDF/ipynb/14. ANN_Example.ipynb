{
 "cells": [
  {
   "cell_type": "code",
   "execution_count": 1,
   "metadata": {},
   "outputs": [],
   "source": [
    "import pandas as pd\n",
    "from matplotlib import pyplot as plt\n",
    "import numpy as np\n",
    "%matplotlib inline\n",
    "\n",
    "from sklearn.model_selection import train_test_split\n",
    "from sklearn.preprocessing import LabelEncoder\n",
    "from sklearn.preprocessing import StandardScaler\n",
    "\n",
    "from sklearn.metrics import mean_absolute_error,mean_squared_error\n",
    "from sklearn.metrics import confusion_matrix , classification_report,accuracy_score\n",
    "\n",
    "\n",
    "import tensorflow as tf\n",
    "from tensorflow import keras\n",
    "from keras.models import Sequential\n",
    "from keras.layers import Dense"
   ]
  },
  {
   "cell_type": "markdown",
   "metadata": {},
   "source": [
    "## Binary Classifier"
   ]
  },
  {
   "cell_type": "code",
   "execution_count": 2,
   "metadata": {},
   "outputs": [
    {
     "data": {
      "text/html": [
       "<div>\n",
       "<style scoped>\n",
       "    .dataframe tbody tr th:only-of-type {\n",
       "        vertical-align: middle;\n",
       "    }\n",
       "\n",
       "    .dataframe tbody tr th {\n",
       "        vertical-align: top;\n",
       "    }\n",
       "\n",
       "    .dataframe thead th {\n",
       "        text-align: right;\n",
       "    }\n",
       "</style>\n",
       "<table border=\"1\" class=\"dataframe\">\n",
       "  <thead>\n",
       "    <tr style=\"text-align: right;\">\n",
       "      <th></th>\n",
       "      <th>Pregnancies</th>\n",
       "      <th>Glucose</th>\n",
       "      <th>BloodPressure</th>\n",
       "      <th>SkinThickness</th>\n",
       "      <th>Insulin</th>\n",
       "      <th>BMI</th>\n",
       "      <th>DiabetesPedigreeFunction</th>\n",
       "      <th>Age</th>\n",
       "      <th>Outcome</th>\n",
       "    </tr>\n",
       "  </thead>\n",
       "  <tbody>\n",
       "    <tr>\n",
       "      <th>0</th>\n",
       "      <td>2</td>\n",
       "      <td>138</td>\n",
       "      <td>62</td>\n",
       "      <td>35</td>\n",
       "      <td>0</td>\n",
       "      <td>33.6</td>\n",
       "      <td>0.127</td>\n",
       "      <td>47</td>\n",
       "      <td>1</td>\n",
       "    </tr>\n",
       "    <tr>\n",
       "      <th>1</th>\n",
       "      <td>0</td>\n",
       "      <td>84</td>\n",
       "      <td>82</td>\n",
       "      <td>31</td>\n",
       "      <td>125</td>\n",
       "      <td>38.2</td>\n",
       "      <td>0.233</td>\n",
       "      <td>23</td>\n",
       "      <td>0</td>\n",
       "    </tr>\n",
       "    <tr>\n",
       "      <th>2</th>\n",
       "      <td>0</td>\n",
       "      <td>145</td>\n",
       "      <td>0</td>\n",
       "      <td>0</td>\n",
       "      <td>0</td>\n",
       "      <td>44.2</td>\n",
       "      <td>0.630</td>\n",
       "      <td>31</td>\n",
       "      <td>1</td>\n",
       "    </tr>\n",
       "    <tr>\n",
       "      <th>3</th>\n",
       "      <td>0</td>\n",
       "      <td>135</td>\n",
       "      <td>68</td>\n",
       "      <td>42</td>\n",
       "      <td>250</td>\n",
       "      <td>42.3</td>\n",
       "      <td>0.365</td>\n",
       "      <td>24</td>\n",
       "      <td>1</td>\n",
       "    </tr>\n",
       "    <tr>\n",
       "      <th>4</th>\n",
       "      <td>1</td>\n",
       "      <td>139</td>\n",
       "      <td>62</td>\n",
       "      <td>41</td>\n",
       "      <td>480</td>\n",
       "      <td>40.7</td>\n",
       "      <td>0.536</td>\n",
       "      <td>21</td>\n",
       "      <td>0</td>\n",
       "    </tr>\n",
       "  </tbody>\n",
       "</table>\n",
       "</div>"
      ],
      "text/plain": [
       "   Pregnancies  Glucose  BloodPressure  SkinThickness  Insulin   BMI  \\\n",
       "0            2      138             62             35        0  33.6   \n",
       "1            0       84             82             31      125  38.2   \n",
       "2            0      145              0              0        0  44.2   \n",
       "3            0      135             68             42      250  42.3   \n",
       "4            1      139             62             41      480  40.7   \n",
       "\n",
       "   DiabetesPedigreeFunction  Age  Outcome  \n",
       "0                     0.127   47        1  \n",
       "1                     0.233   23        0  \n",
       "2                     0.630   31        1  \n",
       "3                     0.365   24        1  \n",
       "4                     0.536   21        0  "
      ]
     },
     "execution_count": 2,
     "metadata": {},
     "output_type": "execute_result"
    }
   ],
   "source": [
    "df = pd.read_csv(\"kaggle_diabetes.csv\")\n",
    "df.head()"
   ]
  },
  {
   "cell_type": "code",
   "execution_count": 3,
   "metadata": {},
   "outputs": [
    {
     "data": {
      "text/plain": [
       "(2000, 9)"
      ]
     },
     "execution_count": 3,
     "metadata": {},
     "output_type": "execute_result"
    }
   ],
   "source": [
    "df.shape"
   ]
  },
  {
   "cell_type": "code",
   "execution_count": 4,
   "metadata": {},
   "outputs": [],
   "source": [
    "X = df.drop('Outcome',axis=1)\n",
    "y = df['Outcome']\n",
    "\n",
    "X_train, X_test, y_train, y_test = train_test_split(X,y,test_size=0.2,random_state=5)"
   ]
  },
  {
   "cell_type": "markdown",
   "metadata": {},
   "source": [
    "### Apply ANN"
   ]
  },
  {
   "cell_type": "code",
   "execution_count": 5,
   "metadata": {},
   "outputs": [],
   "source": [
    "classifier = Sequential()\n",
    "##input 1st layer\n",
    "classifier.add(Dense(16,activation='relu',input_dim=8))\n",
    "\n",
    "\n",
    "## second hidden layer\n",
    "classifier.add(Dense(8,activation='relu'))\n",
    "\n",
    "\n",
    "## output layer\n",
    "classifier.add(Dense(1,activation='sigmoid'))"
   ]
  },
  {
   "cell_type": "code",
   "execution_count": 6,
   "metadata": {},
   "outputs": [],
   "source": [
    "classifier.compile(optimizer='adam',\n",
    "              loss='binary_crossentropy',\n",
    "              metrics=['accuracy'])"
   ]
  },
  {
   "cell_type": "code",
   "execution_count": 7,
   "metadata": {},
   "outputs": [
    {
     "name": "stdout",
     "output_type": "stream",
     "text": [
      "Epoch 1/150\n",
      "50/50 [==============================] - 1s 1ms/step - loss: 6.1302 - accuracy: 0.4691\n",
      "Epoch 2/150\n",
      "50/50 [==============================] - 0s 1ms/step - loss: 1.5064 - accuracy: 0.6145\n",
      "Epoch 3/150\n",
      "50/50 [==============================] - 0s 1ms/step - loss: 1.1917 - accuracy: 0.6264\n",
      "Epoch 4/150\n",
      "50/50 [==============================] - 0s 1ms/step - loss: 0.9443 - accuracy: 0.6452\n",
      "Epoch 5/150\n",
      "50/50 [==============================] - 0s 1ms/step - loss: 0.8631 - accuracy: 0.6444\n",
      "Epoch 6/150\n",
      "50/50 [==============================] - 0s 2ms/step - loss: 0.8198 - accuracy: 0.6555\n",
      "Epoch 7/150\n",
      "50/50 [==============================] - 0s 1ms/step - loss: 0.7250 - accuracy: 0.6665\n",
      "Epoch 8/150\n",
      "50/50 [==============================] - 0s 1ms/step - loss: 0.7247 - accuracy: 0.6594\n",
      "Epoch 9/150\n",
      "50/50 [==============================] - 0s 2ms/step - loss: 0.6998 - accuracy: 0.6677\n",
      "Epoch 10/150\n",
      "50/50 [==============================] - 0s 1ms/step - loss: 0.7185 - accuracy: 0.6767\n",
      "Epoch 11/150\n",
      "50/50 [==============================] - 0s 1ms/step - loss: 0.6775 - accuracy: 0.6648\n",
      "Epoch 12/150\n",
      "50/50 [==============================] - 0s 1ms/step - loss: 0.6575 - accuracy: 0.6754\n",
      "Epoch 13/150\n",
      "50/50 [==============================] - 0s 1ms/step - loss: 0.6516 - accuracy: 0.6842\n",
      "Epoch 14/150\n",
      "50/50 [==============================] - 0s 1ms/step - loss: 0.6310 - accuracy: 0.6893\n",
      "Epoch 15/150\n",
      "50/50 [==============================] - 0s 1ms/step - loss: 0.6468 - accuracy: 0.6695\n",
      "Epoch 16/150\n",
      "50/50 [==============================] - 0s 1ms/step - loss: 0.6389 - accuracy: 0.6573\n",
      "Epoch 17/150\n",
      "50/50 [==============================] - 0s 1ms/step - loss: 0.6323 - accuracy: 0.6788\n",
      "Epoch 18/150\n",
      "50/50 [==============================] - 0s 1ms/step - loss: 0.6026 - accuracy: 0.7077\n",
      "Epoch 19/150\n",
      "50/50 [==============================] - 0s 1ms/step - loss: 0.6055 - accuracy: 0.6905\n",
      "Epoch 20/150\n",
      "50/50 [==============================] - 0s 1ms/step - loss: 0.5914 - accuracy: 0.7089\n",
      "Epoch 21/150\n",
      "50/50 [==============================] - 0s 2ms/step - loss: 0.5753 - accuracy: 0.7221\n",
      "Epoch 22/150\n",
      "50/50 [==============================] - 0s 2ms/step - loss: 0.5729 - accuracy: 0.7173\n",
      "Epoch 23/150\n",
      "50/50 [==============================] - 0s 2ms/step - loss: 0.5700 - accuracy: 0.7120\n",
      "Epoch 24/150\n",
      "50/50 [==============================] - 0s 2ms/step - loss: 0.5736 - accuracy: 0.7180\n",
      "Epoch 25/150\n",
      "50/50 [==============================] - 0s 2ms/step - loss: 0.5595 - accuracy: 0.7308\n",
      "Epoch 26/150\n",
      "50/50 [==============================] - 0s 2ms/step - loss: 0.5736 - accuracy: 0.7146\n",
      "Epoch 27/150\n",
      "50/50 [==============================] - 0s 1ms/step - loss: 0.5573 - accuracy: 0.7156\n",
      "Epoch 28/150\n",
      "50/50 [==============================] - 0s 1ms/step - loss: 0.5875 - accuracy: 0.7254\n",
      "Epoch 29/150\n",
      "50/50 [==============================] - 0s 1ms/step - loss: 0.5368 - accuracy: 0.7384\n",
      "Epoch 30/150\n",
      "50/50 [==============================] - 0s 1ms/step - loss: 0.5809 - accuracy: 0.7158\n",
      "Epoch 31/150\n",
      "50/50 [==============================] - 0s 1ms/step - loss: 0.5565 - accuracy: 0.7232\n",
      "Epoch 32/150\n",
      "50/50 [==============================] - 0s 1ms/step - loss: 0.5431 - accuracy: 0.7323\n",
      "Epoch 33/150\n",
      "50/50 [==============================] - 0s 2ms/step - loss: 0.5621 - accuracy: 0.7177\n",
      "Epoch 34/150\n",
      "50/50 [==============================] - 0s 2ms/step - loss: 0.5318 - accuracy: 0.7456\n",
      "Epoch 35/150\n",
      "50/50 [==============================] - 0s 1ms/step - loss: 0.5422 - accuracy: 0.7392\n",
      "Epoch 36/150\n",
      "50/50 [==============================] - 0s 1ms/step - loss: 0.5509 - accuracy: 0.7141\n",
      "Epoch 37/150\n",
      "50/50 [==============================] - 0s 1ms/step - loss: 0.5292 - accuracy: 0.7589\n",
      "Epoch 38/150\n",
      "50/50 [==============================] - 0s 1ms/step - loss: 0.5359 - accuracy: 0.7470\n",
      "Epoch 39/150\n",
      "50/50 [==============================] - 0s 1ms/step - loss: 0.5201 - accuracy: 0.7531\n",
      "Epoch 40/150\n",
      "50/50 [==============================] - 0s 1ms/step - loss: 0.5108 - accuracy: 0.7553\n",
      "Epoch 41/150\n",
      "50/50 [==============================] - 0s 1ms/step - loss: 0.5146 - accuracy: 0.7445\n",
      "Epoch 42/150\n",
      "50/50 [==============================] - 0s 1ms/step - loss: 0.5445 - accuracy: 0.7319\n",
      "Epoch 43/150\n",
      "50/50 [==============================] - 0s 1ms/step - loss: 0.5261 - accuracy: 0.7411\n",
      "Epoch 44/150\n",
      "50/50 [==============================] - 0s 1ms/step - loss: 0.5050 - accuracy: 0.7624\n",
      "Epoch 45/150\n",
      "50/50 [==============================] - 0s 1ms/step - loss: 0.5267 - accuracy: 0.7293\n",
      "Epoch 46/150\n",
      "50/50 [==============================] - 0s 2ms/step - loss: 0.5123 - accuracy: 0.7621\n",
      "Epoch 47/150\n",
      "50/50 [==============================] - 0s 1ms/step - loss: 0.5420 - accuracy: 0.7402\n",
      "Epoch 48/150\n",
      "50/50 [==============================] - 0s 2ms/step - loss: 0.5078 - accuracy: 0.7648\n",
      "Epoch 49/150\n",
      "50/50 [==============================] - 0s 1ms/step - loss: 0.5407 - accuracy: 0.7392\n",
      "Epoch 50/150\n",
      "50/50 [==============================] - 0s 1ms/step - loss: 0.5070 - accuracy: 0.7671\n",
      "Epoch 51/150\n",
      "50/50 [==============================] - 0s 1ms/step - loss: 0.5042 - accuracy: 0.7808\n",
      "Epoch 52/150\n",
      "50/50 [==============================] - 0s 1ms/step - loss: 0.4885 - accuracy: 0.7853\n",
      "Epoch 53/150\n",
      "50/50 [==============================] - 0s 2ms/step - loss: 0.5117 - accuracy: 0.7566\n",
      "Epoch 54/150\n",
      "50/50 [==============================] - 0s 1ms/step - loss: 0.5002 - accuracy: 0.7677\n",
      "Epoch 55/150\n",
      "50/50 [==============================] - 0s 1ms/step - loss: 0.5159 - accuracy: 0.7612\n",
      "Epoch 56/150\n",
      "50/50 [==============================] - 0s 1ms/step - loss: 0.5013 - accuracy: 0.7678\n",
      "Epoch 57/150\n",
      "50/50 [==============================] - 0s 1ms/step - loss: 0.4942 - accuracy: 0.7614\n",
      "Epoch 58/150\n",
      "50/50 [==============================] - 0s 1ms/step - loss: 0.4813 - accuracy: 0.7797\n",
      "Epoch 59/150\n",
      "50/50 [==============================] - 0s 1ms/step - loss: 0.4785 - accuracy: 0.7822\n",
      "Epoch 60/150\n",
      "50/50 [==============================] - 0s 1ms/step - loss: 0.4961 - accuracy: 0.7665\n",
      "Epoch 61/150\n",
      "50/50 [==============================] - 0s 1ms/step - loss: 0.5009 - accuracy: 0.7673\n",
      "Epoch 62/150\n",
      "50/50 [==============================] - 0s 1ms/step - loss: 0.4883 - accuracy: 0.7702\n",
      "Epoch 63/150\n",
      "50/50 [==============================] - 0s 1ms/step - loss: 0.4775 - accuracy: 0.7979\n",
      "Epoch 64/150\n",
      "50/50 [==============================] - 0s 1ms/step - loss: 0.4834 - accuracy: 0.7731\n",
      "Epoch 65/150\n",
      "50/50 [==============================] - 0s 1ms/step - loss: 0.4775 - accuracy: 0.7826\n",
      "Epoch 66/150\n",
      "50/50 [==============================] - 0s 1ms/step - loss: 0.4814 - accuracy: 0.7739\n",
      "Epoch 67/150\n",
      "50/50 [==============================] - 0s 1ms/step - loss: 0.4815 - accuracy: 0.7665\n",
      "Epoch 68/150\n",
      "50/50 [==============================] - 0s 1ms/step - loss: 0.5004 - accuracy: 0.7645\n",
      "Epoch 69/150\n",
      "50/50 [==============================] - 0s 1ms/step - loss: 0.4817 - accuracy: 0.7771\n",
      "Epoch 70/150\n",
      "50/50 [==============================] - 0s 1ms/step - loss: 0.4958 - accuracy: 0.7652\n",
      "Epoch 71/150\n",
      "50/50 [==============================] - 0s 1ms/step - loss: 0.4918 - accuracy: 0.7796\n",
      "Epoch 72/150\n",
      "50/50 [==============================] - 0s 1ms/step - loss: 0.4799 - accuracy: 0.7780\n",
      "Epoch 73/150\n",
      "50/50 [==============================] - 0s 1ms/step - loss: 0.4696 - accuracy: 0.7744\n",
      "Epoch 74/150\n",
      "50/50 [==============================] - 0s 1ms/step - loss: 0.4633 - accuracy: 0.7930\n",
      "Epoch 75/150\n",
      "50/50 [==============================] - 0s 1ms/step - loss: 0.4949 - accuracy: 0.7706\n",
      "Epoch 76/150\n",
      "50/50 [==============================] - 0s 1ms/step - loss: 0.4786 - accuracy: 0.7805\n",
      "Epoch 77/150\n",
      "50/50 [==============================] - 0s 1ms/step - loss: 0.4648 - accuracy: 0.7875\n",
      "Epoch 78/150\n",
      "50/50 [==============================] - 0s 1ms/step - loss: 0.4787 - accuracy: 0.7830\n",
      "Epoch 79/150\n",
      "50/50 [==============================] - 0s 1ms/step - loss: 0.4659 - accuracy: 0.7896\n",
      "Epoch 80/150\n",
      "50/50 [==============================] - 0s 1ms/step - loss: 0.4696 - accuracy: 0.7831\n",
      "Epoch 81/150\n",
      "50/50 [==============================] - 0s 1ms/step - loss: 0.4864 - accuracy: 0.7692\n",
      "Epoch 82/150\n",
      "50/50 [==============================] - 0s 1ms/step - loss: 0.4650 - accuracy: 0.7835\n",
      "Epoch 83/150\n"
     ]
    },
    {
     "name": "stdout",
     "output_type": "stream",
     "text": [
      "50/50 [==============================] - 0s 1ms/step - loss: 0.4975 - accuracy: 0.7720\n",
      "Epoch 84/150\n",
      "50/50 [==============================] - 0s 1ms/step - loss: 0.4752 - accuracy: 0.7730\n",
      "Epoch 85/150\n",
      "50/50 [==============================] - 0s 1ms/step - loss: 0.4967 - accuracy: 0.7626\n",
      "Epoch 86/150\n",
      "50/50 [==============================] - 0s 1ms/step - loss: 0.4815 - accuracy: 0.7824\n",
      "Epoch 87/150\n",
      "50/50 [==============================] - 0s 1ms/step - loss: 0.4654 - accuracy: 0.7804\n",
      "Epoch 88/150\n",
      "50/50 [==============================] - 0s 1ms/step - loss: 0.4672 - accuracy: 0.7840\n",
      "Epoch 89/150\n",
      "50/50 [==============================] - 0s 1ms/step - loss: 0.4639 - accuracy: 0.8017\n",
      "Epoch 90/150\n",
      "50/50 [==============================] - 0s 1ms/step - loss: 0.4756 - accuracy: 0.7730\n",
      "Epoch 91/150\n",
      "50/50 [==============================] - 0s 1ms/step - loss: 0.4652 - accuracy: 0.7812\n",
      "Epoch 92/150\n",
      "50/50 [==============================] - 0s 1ms/step - loss: 0.4514 - accuracy: 0.7978\n",
      "Epoch 93/150\n",
      "50/50 [==============================] - 0s 1ms/step - loss: 0.4698 - accuracy: 0.7956\n",
      "Epoch 94/150\n",
      "50/50 [==============================] - 0s 1ms/step - loss: 0.4965 - accuracy: 0.7577\n",
      "Epoch 95/150\n",
      "50/50 [==============================] - 0s 3ms/step - loss: 0.4623 - accuracy: 0.7861\n",
      "Epoch 96/150\n",
      "50/50 [==============================] - 0s 1ms/step - loss: 0.4810 - accuracy: 0.7790\n",
      "Epoch 97/150\n",
      "50/50 [==============================] - 0s 1ms/step - loss: 0.4845 - accuracy: 0.7826\n",
      "Epoch 98/150\n",
      "50/50 [==============================] - 0s 2ms/step - loss: 0.4928 - accuracy: 0.7677\n",
      "Epoch 99/150\n",
      "50/50 [==============================] - 0s 2ms/step - loss: 0.4476 - accuracy: 0.7996\n",
      "Epoch 100/150\n",
      "50/50 [==============================] - 0s 2ms/step - loss: 0.4594 - accuracy: 0.7953\n",
      "Epoch 101/150\n",
      "50/50 [==============================] - 0s 2ms/step - loss: 0.4752 - accuracy: 0.7836\n",
      "Epoch 102/150\n",
      "50/50 [==============================] - 0s 1ms/step - loss: 0.4798 - accuracy: 0.7620\n",
      "Epoch 103/150\n",
      "50/50 [==============================] - 0s 1ms/step - loss: 0.4527 - accuracy: 0.7891\n",
      "Epoch 104/150\n",
      "50/50 [==============================] - 0s 1ms/step - loss: 0.4547 - accuracy: 0.7991\n",
      "Epoch 105/150\n",
      "50/50 [==============================] - 0s 1ms/step - loss: 0.4667 - accuracy: 0.7880\n",
      "Epoch 106/150\n",
      "50/50 [==============================] - 0s 1ms/step - loss: 0.4337 - accuracy: 0.7946\n",
      "Epoch 107/150\n",
      "50/50 [==============================] - 0s 1ms/step - loss: 0.4679 - accuracy: 0.7923\n",
      "Epoch 108/150\n",
      "50/50 [==============================] - 0s 1ms/step - loss: 0.4429 - accuracy: 0.7959\n",
      "Epoch 109/150\n",
      "50/50 [==============================] - 0s 1ms/step - loss: 0.4560 - accuracy: 0.7750\n",
      "Epoch 110/150\n",
      "50/50 [==============================] - 0s 1ms/step - loss: 0.4662 - accuracy: 0.7831\n",
      "Epoch 111/150\n",
      "50/50 [==============================] - 0s 1ms/step - loss: 0.4514 - accuracy: 0.7935\n",
      "Epoch 112/150\n",
      "50/50 [==============================] - 0s 1ms/step - loss: 0.4592 - accuracy: 0.8013\n",
      "Epoch 113/150\n",
      "50/50 [==============================] - 0s 1ms/step - loss: 0.4669 - accuracy: 0.7882\n",
      "Epoch 114/150\n",
      "50/50 [==============================] - 0s 1ms/step - loss: 0.4643 - accuracy: 0.7963\n",
      "Epoch 115/150\n",
      "50/50 [==============================] - 0s 1ms/step - loss: 0.4757 - accuracy: 0.7757\n",
      "Epoch 116/150\n",
      "50/50 [==============================] - 0s 1ms/step - loss: 0.4501 - accuracy: 0.7984\n",
      "Epoch 117/150\n",
      "50/50 [==============================] - 0s 1ms/step - loss: 0.4624 - accuracy: 0.7888\n",
      "Epoch 118/150\n",
      "50/50 [==============================] - 0s 1ms/step - loss: 0.4338 - accuracy: 0.8183\n",
      "Epoch 119/150\n",
      "50/50 [==============================] - 0s 1ms/step - loss: 0.4455 - accuracy: 0.8033\n",
      "Epoch 120/150\n",
      "50/50 [==============================] - 0s 1ms/step - loss: 0.4575 - accuracy: 0.7866\n",
      "Epoch 121/150\n",
      "50/50 [==============================] - 0s 1ms/step - loss: 0.4586 - accuracy: 0.7828\n",
      "Epoch 122/150\n",
      "50/50 [==============================] - 0s 1ms/step - loss: 0.4439 - accuracy: 0.8005\n",
      "Epoch 123/150\n",
      "50/50 [==============================] - 0s 1ms/step - loss: 0.4688 - accuracy: 0.7798\n",
      "Epoch 124/150\n",
      "50/50 [==============================] - 0s 1ms/step - loss: 0.4515 - accuracy: 0.7892\n",
      "Epoch 125/150\n",
      "50/50 [==============================] - 0s 1ms/step - loss: 0.4430 - accuracy: 0.7935\n",
      "Epoch 126/150\n",
      "50/50 [==============================] - 0s 1ms/step - loss: 0.4328 - accuracy: 0.7871\n",
      "Epoch 127/150\n",
      "50/50 [==============================] - 0s 1ms/step - loss: 0.4575 - accuracy: 0.8059\n",
      "Epoch 128/150\n",
      "50/50 [==============================] - 0s 1ms/step - loss: 0.4524 - accuracy: 0.7925\n",
      "Epoch 129/150\n",
      "50/50 [==============================] - 0s 1ms/step - loss: 0.4190 - accuracy: 0.8138\n",
      "Epoch 130/150\n",
      "50/50 [==============================] - 0s 1ms/step - loss: 0.4316 - accuracy: 0.7898\n",
      "Epoch 131/150\n",
      "50/50 [==============================] - 0s 1ms/step - loss: 0.4564 - accuracy: 0.8003\n",
      "Epoch 132/150\n",
      "50/50 [==============================] - 0s 1ms/step - loss: 0.4549 - accuracy: 0.7973\n",
      "Epoch 133/150\n",
      "50/50 [==============================] - 0s 1ms/step - loss: 0.4506 - accuracy: 0.7925\n",
      "Epoch 134/150\n",
      "50/50 [==============================] - 0s 1ms/step - loss: 0.4487 - accuracy: 0.7847\n",
      "Epoch 135/150\n",
      "50/50 [==============================] - 0s 1ms/step - loss: 0.4351 - accuracy: 0.7945\n",
      "Epoch 136/150\n",
      "50/50 [==============================] - 0s 1ms/step - loss: 0.4681 - accuracy: 0.7870\n",
      "Epoch 137/150\n",
      "50/50 [==============================] - 0s 1ms/step - loss: 0.4508 - accuracy: 0.7948\n",
      "Epoch 138/150\n",
      "50/50 [==============================] - 0s 1ms/step - loss: 0.4467 - accuracy: 0.7996\n",
      "Epoch 139/150\n",
      "50/50 [==============================] - 0s 1ms/step - loss: 0.4500 - accuracy: 0.7967\n",
      "Epoch 140/150\n",
      "50/50 [==============================] - 0s 1ms/step - loss: 0.4265 - accuracy: 0.7937\n",
      "Epoch 141/150\n",
      "50/50 [==============================] - 0s 1ms/step - loss: 0.4376 - accuracy: 0.7956\n",
      "Epoch 142/150\n",
      "50/50 [==============================] - 0s 1ms/step - loss: 0.4331 - accuracy: 0.8042\n",
      "Epoch 143/150\n",
      "50/50 [==============================] - 0s 1ms/step - loss: 0.4441 - accuracy: 0.7935\n",
      "Epoch 144/150\n",
      "50/50 [==============================] - 0s 1ms/step - loss: 0.4295 - accuracy: 0.7978\n",
      "Epoch 145/150\n",
      "50/50 [==============================] - 0s 1ms/step - loss: 0.4367 - accuracy: 0.7994\n",
      "Epoch 146/150\n",
      "50/50 [==============================] - 0s 1ms/step - loss: 0.4720 - accuracy: 0.7783\n",
      "Epoch 147/150\n",
      "50/50 [==============================] - 0s 1ms/step - loss: 0.4195 - accuracy: 0.8109\n",
      "Epoch 148/150\n",
      "50/50 [==============================] - 0s 1ms/step - loss: 0.4490 - accuracy: 0.7917\n",
      "Epoch 149/150\n",
      "50/50 [==============================] - 0s 1ms/step - loss: 0.4278 - accuracy: 0.8136\n",
      "Epoch 150/150\n",
      "50/50 [==============================] - 0s 1ms/step - loss: 0.4535 - accuracy: 0.7976\n"
     ]
    },
    {
     "data": {
      "text/plain": [
       "<tensorflow.python.keras.callbacks.History at 0x20e83db7b88>"
      ]
     },
     "execution_count": 7,
     "metadata": {},
     "output_type": "execute_result"
    }
   ],
   "source": [
    "classifier.fit(X_train, y_train, epochs=150)"
   ]
  },
  {
   "cell_type": "code",
   "execution_count": 8,
   "metadata": {},
   "outputs": [
    {
     "name": "stdout",
     "output_type": "stream",
     "text": [
      "13/13 [==============================] - 0s 1ms/step - loss: 0.4997 - accuracy: 0.7775\n"
     ]
    },
    {
     "data": {
      "text/plain": [
       "[0.4997430741786957, 0.7774999737739563]"
      ]
     },
     "execution_count": 8,
     "metadata": {},
     "output_type": "execute_result"
    }
   ],
   "source": [
    "classifier.evaluate(X_test, y_test)"
   ]
  },
  {
   "cell_type": "code",
   "execution_count": 9,
   "metadata": {},
   "outputs": [],
   "source": [
    "y_pred = classifier.predict(X_test)"
   ]
  },
  {
   "cell_type": "code",
   "execution_count": 10,
   "metadata": {},
   "outputs": [
    {
     "data": {
      "text/plain": [
       "array([[0.1072953 ],\n",
       "       [0.03356129],\n",
       "       [0.20200807],\n",
       "       [0.16860384],\n",
       "       [0.50361   ]], dtype=float32)"
      ]
     },
     "execution_count": 10,
     "metadata": {},
     "output_type": "execute_result"
    }
   ],
   "source": [
    "yp = classifier.predict(X_test)\n",
    "yp[:5]"
   ]
  },
  {
   "cell_type": "code",
   "execution_count": 11,
   "metadata": {},
   "outputs": [],
   "source": [
    "y_pred = []\n",
    "for element in yp:\n",
    "    if element > 0.5:\n",
    "        y_pred.append(1)\n",
    "    else:\n",
    "        y_pred.append(0)"
   ]
  },
  {
   "cell_type": "code",
   "execution_count": 12,
   "metadata": {},
   "outputs": [
    {
     "name": "stdout",
     "output_type": "stream",
     "text": [
      "              precision    recall  f1-score   support\n",
      "\n",
      "           0       0.79      0.92      0.85       269\n",
      "           1       0.74      0.49      0.59       131\n",
      "\n",
      "    accuracy                           0.78       400\n",
      "   macro avg       0.77      0.70      0.72       400\n",
      "weighted avg       0.77      0.78      0.76       400\n",
      "\n"
     ]
    }
   ],
   "source": [
    "print(classification_report(y_test,y_pred))"
   ]
  },
  {
   "cell_type": "markdown",
   "metadata": {},
   "source": [
    "## Multi Classification Using ANN"
   ]
  },
  {
   "cell_type": "code",
   "execution_count": 13,
   "metadata": {},
   "outputs": [
    {
     "data": {
      "text/plain": [
       "(150, 5)"
      ]
     },
     "execution_count": 13,
     "metadata": {},
     "output_type": "execute_result"
    }
   ],
   "source": [
    "data = pd.read_csv('https://gist.githubusercontent.com/curran/a08a1080b88344b0c8a7/raw/0e7a9b0a5d22642a06d3d5b9bcbad9890c8ee534/iris.csv')\n",
    "data.shape"
   ]
  },
  {
   "cell_type": "code",
   "execution_count": 14,
   "metadata": {},
   "outputs": [
    {
     "data": {
      "text/html": [
       "<div>\n",
       "<style scoped>\n",
       "    .dataframe tbody tr th:only-of-type {\n",
       "        vertical-align: middle;\n",
       "    }\n",
       "\n",
       "    .dataframe tbody tr th {\n",
       "        vertical-align: top;\n",
       "    }\n",
       "\n",
       "    .dataframe thead th {\n",
       "        text-align: right;\n",
       "    }\n",
       "</style>\n",
       "<table border=\"1\" class=\"dataframe\">\n",
       "  <thead>\n",
       "    <tr style=\"text-align: right;\">\n",
       "      <th></th>\n",
       "      <th>sepal_length</th>\n",
       "      <th>sepal_width</th>\n",
       "      <th>petal_length</th>\n",
       "      <th>petal_width</th>\n",
       "      <th>species</th>\n",
       "    </tr>\n",
       "  </thead>\n",
       "  <tbody>\n",
       "    <tr>\n",
       "      <th>0</th>\n",
       "      <td>5.1</td>\n",
       "      <td>3.5</td>\n",
       "      <td>1.4</td>\n",
       "      <td>0.2</td>\n",
       "      <td>setosa</td>\n",
       "    </tr>\n",
       "    <tr>\n",
       "      <th>1</th>\n",
       "      <td>4.9</td>\n",
       "      <td>3.0</td>\n",
       "      <td>1.4</td>\n",
       "      <td>0.2</td>\n",
       "      <td>setosa</td>\n",
       "    </tr>\n",
       "    <tr>\n",
       "      <th>2</th>\n",
       "      <td>4.7</td>\n",
       "      <td>3.2</td>\n",
       "      <td>1.3</td>\n",
       "      <td>0.2</td>\n",
       "      <td>setosa</td>\n",
       "    </tr>\n",
       "    <tr>\n",
       "      <th>3</th>\n",
       "      <td>4.6</td>\n",
       "      <td>3.1</td>\n",
       "      <td>1.5</td>\n",
       "      <td>0.2</td>\n",
       "      <td>setosa</td>\n",
       "    </tr>\n",
       "    <tr>\n",
       "      <th>4</th>\n",
       "      <td>5.0</td>\n",
       "      <td>3.6</td>\n",
       "      <td>1.4</td>\n",
       "      <td>0.2</td>\n",
       "      <td>setosa</td>\n",
       "    </tr>\n",
       "  </tbody>\n",
       "</table>\n",
       "</div>"
      ],
      "text/plain": [
       "   sepal_length  sepal_width  petal_length  petal_width species\n",
       "0           5.1          3.5           1.4          0.2  setosa\n",
       "1           4.9          3.0           1.4          0.2  setosa\n",
       "2           4.7          3.2           1.3          0.2  setosa\n",
       "3           4.6          3.1           1.5          0.2  setosa\n",
       "4           5.0          3.6           1.4          0.2  setosa"
      ]
     },
     "execution_count": 14,
     "metadata": {},
     "output_type": "execute_result"
    }
   ],
   "source": [
    "data.head()"
   ]
  },
  {
   "cell_type": "markdown",
   "metadata": {},
   "source": [
    "### Split in to X and y"
   ]
  },
  {
   "cell_type": "code",
   "execution_count": 15,
   "metadata": {},
   "outputs": [],
   "source": [
    "X = data.drop('species',axis=1)\n",
    "y = data['species']"
   ]
  },
  {
   "cell_type": "markdown",
   "metadata": {},
   "source": [
    "### Encoding target variable Using Label or Dummy\n",
    "\n",
    "##### imp1:- If you use dummy then in loss function you use categorical_crossentropy\n",
    "##### imp2:- if you use label_encoding then in loss function you use sparse_categorical_crossentropy\n",
    "\n",
    "<img src=\"38.png\">"
   ]
  },
  {
   "cell_type": "code",
   "execution_count": 16,
   "metadata": {},
   "outputs": [
    {
     "data": {
      "text/plain": [
       "array([0, 0, 0, 0, 0, 0, 0, 0, 0, 0, 0, 0, 0, 0, 0, 0, 0, 0, 0, 0, 0, 0,\n",
       "       0, 0, 0, 0, 0, 0, 0, 0, 0, 0, 0, 0, 0, 0, 0, 0, 0, 0, 0, 0, 0, 0,\n",
       "       0, 0, 0, 0, 0, 0, 1, 1, 1, 1, 1, 1, 1, 1, 1, 1, 1, 1, 1, 1, 1, 1,\n",
       "       1, 1, 1, 1, 1, 1, 1, 1, 1, 1, 1, 1, 1, 1, 1, 1, 1, 1, 1, 1, 1, 1,\n",
       "       1, 1, 1, 1, 1, 1, 1, 1, 1, 1, 1, 1, 2, 2, 2, 2, 2, 2, 2, 2, 2, 2,\n",
       "       2, 2, 2, 2, 2, 2, 2, 2, 2, 2, 2, 2, 2, 2, 2, 2, 2, 2, 2, 2, 2, 2,\n",
       "       2, 2, 2, 2, 2, 2, 2, 2, 2, 2, 2, 2, 2, 2, 2, 2, 2, 2])"
      ]
     },
     "execution_count": 16,
     "metadata": {},
     "output_type": "execute_result"
    }
   ],
   "source": [
    "## label\n",
    "\n",
    "lb = LabelEncoder()\n",
    "y_enc = lb.fit_transform(y)\n",
    "y_enc"
   ]
  },
  {
   "cell_type": "code",
   "execution_count": 17,
   "metadata": {},
   "outputs": [],
   "source": [
    "# dummy\n",
    "# y_dummy = pd.get_dummies(y).values"
   ]
  },
  {
   "cell_type": "code",
   "execution_count": 18,
   "metadata": {},
   "outputs": [],
   "source": [
    "X_train,X_test,y_train,y_test = train_test_split(X,y_enc,test_size=0.25,random_state=4)"
   ]
  },
  {
   "cell_type": "code",
   "execution_count": 19,
   "metadata": {},
   "outputs": [],
   "source": [
    "sc = StandardScaler()\n",
    "X_train_scaled = sc.fit_transform(X_train)\n",
    "X_test_scaled = sc.transform(X_test)"
   ]
  },
  {
   "cell_type": "code",
   "execution_count": 20,
   "metadata": {},
   "outputs": [
    {
     "data": {
      "text/plain": [
       "(150, 4)"
      ]
     },
     "execution_count": 20,
     "metadata": {},
     "output_type": "execute_result"
    }
   ],
   "source": [
    "X.shape"
   ]
  },
  {
   "cell_type": "markdown",
   "metadata": {},
   "source": [
    "### Apply ANN"
   ]
  },
  {
   "cell_type": "code",
   "execution_count": 21,
   "metadata": {},
   "outputs": [],
   "source": [
    "classifier = Sequential()\n",
    "classifier.add(Dense(10,input_dim = 4,activation = \"relu\"))\n",
    "\n",
    "classifier.add(Dense(3,activation = \"softmax\"))"
   ]
  },
  {
   "cell_type": "code",
   "execution_count": 22,
   "metadata": {},
   "outputs": [],
   "source": [
    "## if target dummy encoding use categorical_crossentropy if use label encoding use sparse_categorical_crossentropy\n",
    "classifier.compile(optimizer = 'adam' , loss = 'sparse_categorical_crossentropy',  \n",
    "                   metrics = ['accuracy'] ) "
   ]
  },
  {
   "cell_type": "code",
   "execution_count": 23,
   "metadata": {},
   "outputs": [
    {
     "name": "stdout",
     "output_type": "stream",
     "text": [
      "Epoch 1/100\n",
      "4/4 [==============================] - 0s 2ms/step - loss: 0.8949 - accuracy: 0.6033\n",
      "Epoch 2/100\n",
      "4/4 [==============================] - 0s 2ms/step - loss: 0.9165 - accuracy: 0.5705\n",
      "Epoch 3/100\n",
      "4/4 [==============================] - 0s 2ms/step - loss: 0.8442 - accuracy: 0.6268\n",
      "Epoch 4/100\n",
      "4/4 [==============================] - 0s 4ms/step - loss: 0.8412 - accuracy: 0.6121\n",
      "Epoch 5/100\n",
      "4/4 [==============================] - 0s 4ms/step - loss: 0.8268 - accuracy: 0.5933\n",
      "Epoch 6/100\n",
      "4/4 [==============================] - 0s 3ms/step - loss: 0.8125 - accuracy: 0.6260\n",
      "Epoch 7/100\n",
      "4/4 [==============================] - 0s 3ms/step - loss: 0.7945 - accuracy: 0.6542\n",
      "Epoch 8/100\n",
      "4/4 [==============================] - 0s 3ms/step - loss: 0.8024 - accuracy: 0.6417\n",
      "Epoch 9/100\n",
      "4/4 [==============================] - 0s 4ms/step - loss: 0.7819 - accuracy: 0.6198\n",
      "Epoch 10/100\n",
      "4/4 [==============================] - 0s 3ms/step - loss: 0.7887 - accuracy: 0.6094\n",
      "Epoch 11/100\n",
      "4/4 [==============================] - 0s 3ms/step - loss: 0.7439 - accuracy: 0.6655\n",
      "Epoch 12/100\n",
      "4/4 [==============================] - 0s 3ms/step - loss: 0.7486 - accuracy: 0.6540\n",
      "Epoch 13/100\n",
      "4/4 [==============================] - 0s 3ms/step - loss: 0.7609 - accuracy: 0.6249\n",
      "Epoch 14/100\n",
      "4/4 [==============================] - 0s 4ms/step - loss: 0.7606 - accuracy: 0.6124\n",
      "Epoch 15/100\n",
      "4/4 [==============================] - 0s 4ms/step - loss: 0.7347 - accuracy: 0.6165\n",
      "Epoch 16/100\n",
      "4/4 [==============================] - 0s 3ms/step - loss: 0.7142 - accuracy: 0.6618\n",
      "Epoch 17/100\n",
      "4/4 [==============================] - ETA: 0s - loss: 0.6485 - accuracy: 0.68 - 0s 3ms/step - loss: 0.6902 - accuracy: 0.6647\n",
      "Epoch 18/100\n",
      "4/4 [==============================] - 0s 3ms/step - loss: 0.6868 - accuracy: 0.6808\n",
      "Epoch 19/100\n",
      "4/4 [==============================] - 0s 3ms/step - loss: 0.6719 - accuracy: 0.6787\n",
      "Epoch 20/100\n",
      "4/4 [==============================] - 0s 4ms/step - loss: 0.6649 - accuracy: 0.6964\n",
      "Epoch 21/100\n",
      "4/4 [==============================] - 0s 3ms/step - loss: 0.6845 - accuracy: 0.6356\n",
      "Epoch 22/100\n",
      "4/4 [==============================] - 0s 3ms/step - loss: 0.6376 - accuracy: 0.6918\n",
      "Epoch 23/100\n",
      "4/4 [==============================] - 0s 3ms/step - loss: 0.6638 - accuracy: 0.6449\n",
      "Epoch 24/100\n",
      "4/4 [==============================] - 0s 3ms/step - loss: 0.6272 - accuracy: 0.6595\n",
      "Epoch 25/100\n",
      "4/4 [==============================] - 0s 3ms/step - loss: 0.6018 - accuracy: 0.6939\n",
      "Epoch 26/100\n",
      "4/4 [==============================] - 0s 3ms/step - loss: 0.6137 - accuracy: 0.6751\n",
      "Epoch 27/100\n",
      "4/4 [==============================] - 0s 3ms/step - loss: 0.6427 - accuracy: 0.6304\n",
      "Epoch 28/100\n",
      "4/4 [==============================] - 0s 3ms/step - loss: 0.5863 - accuracy: 0.6902\n",
      "Epoch 29/100\n",
      "4/4 [==============================] - 0s 3ms/step - loss: 0.6289 - accuracy: 0.6562\n",
      "Epoch 30/100\n",
      "4/4 [==============================] - 0s 4ms/step - loss: 0.5941 - accuracy: 0.6984\n",
      "Epoch 31/100\n",
      "4/4 [==============================] - 0s 3ms/step - loss: 0.5941 - accuracy: 0.6994\n",
      "Epoch 32/100\n",
      "4/4 [==============================] - 0s 3ms/step - loss: 0.6051 - accuracy: 0.6717\n",
      "Epoch 33/100\n",
      "4/4 [==============================] - 0s 3ms/step - loss: 0.5829 - accuracy: 0.7065\n",
      "Epoch 34/100\n",
      "4/4 [==============================] - 0s 4ms/step - loss: 0.5718 - accuracy: 0.7173\n",
      "Epoch 35/100\n",
      "4/4 [==============================] - 0s 3ms/step - loss: 0.5116 - accuracy: 0.7854\n",
      "Epoch 36/100\n",
      "4/4 [==============================] - 0s 3ms/step - loss: 0.5709 - accuracy: 0.7374\n",
      "Epoch 37/100\n",
      "4/4 [==============================] - 0s 4ms/step - loss: 0.5438 - accuracy: 0.7561\n",
      "Epoch 38/100\n",
      "4/4 [==============================] - 0s 3ms/step - loss: 0.5238 - accuracy: 0.7961\n",
      "Epoch 39/100\n",
      "4/4 [==============================] - ETA: 0s - loss: 0.4848 - accuracy: 0.87 - 0s 3ms/step - loss: 0.5135 - accuracy: 0.8045\n",
      "Epoch 40/100\n",
      "4/4 [==============================] - 0s 3ms/step - loss: 0.5294 - accuracy: 0.7503\n",
      "Epoch 41/100\n",
      "4/4 [==============================] - 0s 4ms/step - loss: 0.5033 - accuracy: 0.7878\n",
      "Epoch 42/100\n",
      "4/4 [==============================] - 0s 3ms/step - loss: 0.5075 - accuracy: 0.7685\n",
      "Epoch 43/100\n",
      "4/4 [==============================] - 0s 3ms/step - loss: 0.4955 - accuracy: 0.8167\n",
      "Epoch 44/100\n",
      "4/4 [==============================] - 0s 6ms/step - loss: 0.4780 - accuracy: 0.8286\n",
      "Epoch 45/100\n",
      "4/4 [==============================] - 0s 2ms/step - loss: 0.4808 - accuracy: 0.8296\n",
      "Epoch 46/100\n",
      "4/4 [==============================] - 0s 3ms/step - loss: 0.4457 - accuracy: 0.8565\n",
      "Epoch 47/100\n",
      "4/4 [==============================] - 0s 3ms/step - loss: 0.4822 - accuracy: 0.8539\n",
      "Epoch 48/100\n",
      "4/4 [==============================] - 0s 2ms/step - loss: 0.4978 - accuracy: 0.8528\n",
      "Epoch 49/100\n",
      "4/4 [==============================] - 0s 2ms/step - loss: 0.4610 - accuracy: 0.8591\n",
      "Epoch 50/100\n",
      "4/4 [==============================] - 0s 2ms/step - loss: 0.4375 - accuracy: 0.8574\n",
      "Epoch 51/100\n",
      "4/4 [==============================] - 0s 3ms/step - loss: 0.4495 - accuracy: 0.8574\n",
      "Epoch 52/100\n",
      "4/4 [==============================] - 0s 2ms/step - loss: 0.4526 - accuracy: 0.8710\n",
      "Epoch 53/100\n",
      "4/4 [==============================] - 0s 2ms/step - loss: 0.4565 - accuracy: 0.8683\n",
      "Epoch 54/100\n",
      "4/4 [==============================] - 0s 3ms/step - loss: 0.4490 - accuracy: 0.8781\n",
      "Epoch 55/100\n",
      "4/4 [==============================] - 0s 3ms/step - loss: 0.4211 - accuracy: 0.9010\n",
      "Epoch 56/100\n",
      "4/4 [==============================] - 0s 6ms/step - loss: 0.4288 - accuracy: 0.8938\n",
      "Epoch 57/100\n",
      "4/4 [==============================] - 0s 3ms/step - loss: 0.4178 - accuracy: 0.8786\n",
      "Epoch 58/100\n",
      "4/4 [==============================] - 0s 2ms/step - loss: 0.4208 - accuracy: 0.8832\n",
      "Epoch 59/100\n",
      "4/4 [==============================] - 0s 4ms/step - loss: 0.4263 - accuracy: 0.8936\n",
      "Epoch 60/100\n",
      "4/4 [==============================] - 0s 4ms/step - loss: 0.4099 - accuracy: 0.8973\n",
      "Epoch 61/100\n",
      "4/4 [==============================] - 0s 2ms/step - loss: 0.3882 - accuracy: 0.8838\n",
      "Epoch 62/100\n",
      "4/4 [==============================] - 0s 3ms/step - loss: 0.4103 - accuracy: 0.8957\n",
      "Epoch 63/100\n",
      "4/4 [==============================] - 0s 6ms/step - loss: 0.3895 - accuracy: 0.9144\n",
      "Epoch 64/100\n",
      "4/4 [==============================] - 0s 3ms/step - loss: 0.3892 - accuracy: 0.8988\n",
      "Epoch 65/100\n",
      "4/4 [==============================] - 0s 3ms/step - loss: 0.3795 - accuracy: 0.9134\n",
      "Epoch 66/100\n",
      "4/4 [==============================] - 0s 3ms/step - loss: 0.3672 - accuracy: 0.9301\n",
      "Epoch 67/100\n",
      "4/4 [==============================] - 0s 3ms/step - loss: 0.3918 - accuracy: 0.9034\n",
      "Epoch 68/100\n",
      "4/4 [==============================] - 0s 2ms/step - loss: 0.3971 - accuracy: 0.8815\n",
      "Epoch 69/100\n",
      "4/4 [==============================] - 0s 2ms/step - loss: 0.3801 - accuracy: 0.9190\n",
      "Epoch 70/100\n",
      "4/4 [==============================] - 0s 3ms/step - loss: 0.3736 - accuracy: 0.9180\n",
      "Epoch 71/100\n",
      "4/4 [==============================] - 0s 2ms/step - loss: 0.3467 - accuracy: 0.9253\n",
      "Epoch 72/100\n",
      "4/4 [==============================] - 0s 3ms/step - loss: 0.3649 - accuracy: 0.8888\n",
      "Epoch 73/100\n",
      "4/4 [==============================] - 0s 4ms/step - loss: 0.3690 - accuracy: 0.8940\n",
      "Epoch 74/100\n",
      "4/4 [==============================] - 0s 5ms/step - loss: 0.3461 - accuracy: 0.9190\n",
      "Epoch 75/100\n",
      "4/4 [==============================] - 0s 3ms/step - loss: 0.3441 - accuracy: 0.8936\n",
      "Epoch 76/100\n",
      "4/4 [==============================] - 0s 2ms/step - loss: 0.3507 - accuracy: 0.8899\n",
      "Epoch 77/100\n",
      "4/4 [==============================] - 0s 2ms/step - loss: 0.3268 - accuracy: 0.9278\n",
      "Epoch 78/100\n",
      "4/4 [==============================] - 0s 3ms/step - loss: 0.3380 - accuracy: 0.9164\n",
      "Epoch 79/100\n",
      "4/4 [==============================] - 0s 5ms/step - loss: 0.3382 - accuracy: 0.8955\n",
      "Epoch 80/100\n",
      "4/4 [==============================] - 0s 3ms/step - loss: 0.3472 - accuracy: 0.8903\n",
      "Epoch 81/100\n",
      "4/4 [==============================] - 0s 2ms/step - loss: 0.3315 - accuracy: 0.9091\n",
      "Epoch 82/100\n",
      "4/4 [==============================] - 0s 3ms/step - loss: 0.3513 - accuracy: 0.9012\n",
      "Epoch 83/100\n"
     ]
    },
    {
     "name": "stdout",
     "output_type": "stream",
     "text": [
      "4/4 [==============================] - 0s 3ms/step - loss: 0.3095 - accuracy: 0.9293\n",
      "Epoch 84/100\n",
      "4/4 [==============================] - 0s 3ms/step - loss: 0.2982 - accuracy: 0.9085\n",
      "Epoch 85/100\n",
      "4/4 [==============================] - 0s 3ms/step - loss: 0.3019 - accuracy: 0.9350\n",
      "Epoch 86/100\n",
      "4/4 [==============================] - 0s 3ms/step - loss: 0.3250 - accuracy: 0.9068\n",
      "Epoch 87/100\n",
      "4/4 [==============================] - 0s 4ms/step - loss: 0.3088 - accuracy: 0.9256\n",
      "Epoch 88/100\n",
      "4/4 [==============================] - 0s 3ms/step - loss: 0.2944 - accuracy: 0.9298\n",
      "Epoch 89/100\n",
      "4/4 [==============================] - 0s 3ms/step - loss: 0.2828 - accuracy: 0.9485\n",
      "Epoch 90/100\n",
      "4/4 [==============================] - 0s 2ms/step - loss: 0.3163 - accuracy: 0.9100\n",
      "Epoch 91/100\n",
      "4/4 [==============================] - 0s 3ms/step - loss: 0.2852 - accuracy: 0.9577\n",
      "Epoch 92/100\n",
      "4/4 [==============================] - 0s 2ms/step - loss: 0.3132 - accuracy: 0.9254\n",
      "Epoch 93/100\n",
      "4/4 [==============================] - 0s 2ms/step - loss: 0.2565 - accuracy: 0.9723\n",
      "Epoch 94/100\n",
      "4/4 [==============================] - 0s 2ms/step - loss: 0.2765 - accuracy: 0.9629\n",
      "Epoch 95/100\n",
      "4/4 [==============================] - 0s 3ms/step - loss: 0.2974 - accuracy: 0.9484\n",
      "Epoch 96/100\n",
      "4/4 [==============================] - 0s 2ms/step - loss: 0.2826 - accuracy: 0.9317\n",
      "Epoch 97/100\n",
      "4/4 [==============================] - 0s 2ms/step - loss: 0.3076 - accuracy: 0.9098\n",
      "Epoch 98/100\n",
      "4/4 [==============================] - 0s 3ms/step - loss: 0.2959 - accuracy: 0.9411\n",
      "Epoch 99/100\n",
      "4/4 [==============================] - ETA: 0s - loss: 0.2967 - accuracy: 0.90 - 0s 2ms/step - loss: 0.2772 - accuracy: 0.9400\n",
      "Epoch 100/100\n",
      "4/4 [==============================] - 0s 2ms/step - loss: 0.2861 - accuracy: 0.9286\n"
     ]
    },
    {
     "data": {
      "text/plain": [
       "<tensorflow.python.keras.callbacks.History at 0x20e84fe2288>"
      ]
     },
     "execution_count": 23,
     "metadata": {},
     "output_type": "execute_result"
    }
   ],
   "source": [
    "classifier.fit(X_train_scaled , y_train ,epochs = 100) "
   ]
  },
  {
   "cell_type": "code",
   "execution_count": 24,
   "metadata": {},
   "outputs": [],
   "source": [
    "y_pred = classifier.predict(X_test_scaled)\n",
    "# y_test= np.argmax(y_test,axis=1) # when use dummy encoding in target\n",
    "y_pred = np.argmax(y_pred,axis=1)"
   ]
  },
  {
   "cell_type": "code",
   "execution_count": 25,
   "metadata": {},
   "outputs": [
    {
     "name": "stdout",
     "output_type": "stream",
     "text": [
      "              precision    recall  f1-score   support\n",
      "\n",
      "           0       1.00      1.00      1.00        18\n",
      "           1       1.00      0.88      0.93         8\n",
      "           2       0.92      1.00      0.96        12\n",
      "\n",
      "    accuracy                           0.97        38\n",
      "   macro avg       0.97      0.96      0.96        38\n",
      "weighted avg       0.98      0.97      0.97        38\n",
      "\n"
     ]
    }
   ],
   "source": [
    "print(classification_report(y_test,y_pred))"
   ]
  },
  {
   "cell_type": "code",
   "execution_count": null,
   "metadata": {},
   "outputs": [],
   "source": []
  },
  {
   "cell_type": "code",
   "execution_count": null,
   "metadata": {},
   "outputs": [],
   "source": []
  },
  {
   "cell_type": "markdown",
   "metadata": {},
   "source": [
    "## Regression"
   ]
  },
  {
   "cell_type": "code",
   "execution_count": 26,
   "metadata": {},
   "outputs": [],
   "source": [
    "df=pd.read_csv('https://raw.githubusercontent.com/krishnaik06/Keras-Tuner/main/Real_Combine.csv')"
   ]
  },
  {
   "cell_type": "code",
   "execution_count": 27,
   "metadata": {},
   "outputs": [
    {
     "data": {
      "text/html": [
       "<div>\n",
       "<style scoped>\n",
       "    .dataframe tbody tr th:only-of-type {\n",
       "        vertical-align: middle;\n",
       "    }\n",
       "\n",
       "    .dataframe tbody tr th {\n",
       "        vertical-align: top;\n",
       "    }\n",
       "\n",
       "    .dataframe thead th {\n",
       "        text-align: right;\n",
       "    }\n",
       "</style>\n",
       "<table border=\"1\" class=\"dataframe\">\n",
       "  <thead>\n",
       "    <tr style=\"text-align: right;\">\n",
       "      <th></th>\n",
       "      <th>T</th>\n",
       "      <th>TM</th>\n",
       "      <th>Tm</th>\n",
       "      <th>SLP</th>\n",
       "      <th>H</th>\n",
       "      <th>VV</th>\n",
       "      <th>V</th>\n",
       "      <th>VM</th>\n",
       "      <th>PM 2.5</th>\n",
       "    </tr>\n",
       "  </thead>\n",
       "  <tbody>\n",
       "    <tr>\n",
       "      <th>0</th>\n",
       "      <td>7.4</td>\n",
       "      <td>9.8</td>\n",
       "      <td>4.8</td>\n",
       "      <td>1017.6</td>\n",
       "      <td>93.0</td>\n",
       "      <td>0.5</td>\n",
       "      <td>4.3</td>\n",
       "      <td>9.4</td>\n",
       "      <td>219.720833</td>\n",
       "    </tr>\n",
       "    <tr>\n",
       "      <th>1</th>\n",
       "      <td>7.8</td>\n",
       "      <td>12.7</td>\n",
       "      <td>4.4</td>\n",
       "      <td>1018.5</td>\n",
       "      <td>87.0</td>\n",
       "      <td>0.6</td>\n",
       "      <td>4.4</td>\n",
       "      <td>11.1</td>\n",
       "      <td>182.187500</td>\n",
       "    </tr>\n",
       "    <tr>\n",
       "      <th>2</th>\n",
       "      <td>6.7</td>\n",
       "      <td>13.4</td>\n",
       "      <td>2.4</td>\n",
       "      <td>1019.4</td>\n",
       "      <td>82.0</td>\n",
       "      <td>0.6</td>\n",
       "      <td>4.8</td>\n",
       "      <td>11.1</td>\n",
       "      <td>154.037500</td>\n",
       "    </tr>\n",
       "    <tr>\n",
       "      <th>3</th>\n",
       "      <td>8.6</td>\n",
       "      <td>15.5</td>\n",
       "      <td>3.3</td>\n",
       "      <td>1018.7</td>\n",
       "      <td>72.0</td>\n",
       "      <td>0.8</td>\n",
       "      <td>8.1</td>\n",
       "      <td>20.6</td>\n",
       "      <td>223.208333</td>\n",
       "    </tr>\n",
       "    <tr>\n",
       "      <th>4</th>\n",
       "      <td>12.4</td>\n",
       "      <td>20.9</td>\n",
       "      <td>4.4</td>\n",
       "      <td>1017.3</td>\n",
       "      <td>61.0</td>\n",
       "      <td>1.3</td>\n",
       "      <td>8.7</td>\n",
       "      <td>22.2</td>\n",
       "      <td>200.645833</td>\n",
       "    </tr>\n",
       "  </tbody>\n",
       "</table>\n",
       "</div>"
      ],
      "text/plain": [
       "      T    TM   Tm     SLP     H   VV    V    VM      PM 2.5\n",
       "0   7.4   9.8  4.8  1017.6  93.0  0.5  4.3   9.4  219.720833\n",
       "1   7.8  12.7  4.4  1018.5  87.0  0.6  4.4  11.1  182.187500\n",
       "2   6.7  13.4  2.4  1019.4  82.0  0.6  4.8  11.1  154.037500\n",
       "3   8.6  15.5  3.3  1018.7  72.0  0.8  8.1  20.6  223.208333\n",
       "4  12.4  20.9  4.4  1017.3  61.0  1.3  8.7  22.2  200.645833"
      ]
     },
     "execution_count": 27,
     "metadata": {},
     "output_type": "execute_result"
    }
   ],
   "source": [
    "df.head()"
   ]
  },
  {
   "cell_type": "code",
   "execution_count": 28,
   "metadata": {},
   "outputs": [],
   "source": [
    "df.dropna(inplace=True)"
   ]
  },
  {
   "cell_type": "code",
   "execution_count": 29,
   "metadata": {},
   "outputs": [],
   "source": [
    "X=df.drop('PM 2.5',axis=1) ## independent features\n",
    "y=df['PM 2.5'] ## dependent features"
   ]
  },
  {
   "cell_type": "code",
   "execution_count": 30,
   "metadata": {},
   "outputs": [],
   "source": [
    "X_train, X_test, y_train, y_test = train_test_split(X, y, test_size=0.3, random_state=0)"
   ]
  },
  {
   "cell_type": "code",
   "execution_count": 31,
   "metadata": {},
   "outputs": [],
   "source": [
    "sc = StandardScaler()\n",
    "X_train = sc.fit_transform(X_train)\n",
    "X_test = sc.transform(X_test)"
   ]
  },
  {
   "cell_type": "code",
   "execution_count": 32,
   "metadata": {},
   "outputs": [
    {
     "data": {
      "text/plain": [
       "(1092, 8)"
      ]
     },
     "execution_count": 32,
     "metadata": {},
     "output_type": "execute_result"
    }
   ],
   "source": [
    "X.shape"
   ]
  },
  {
   "cell_type": "markdown",
   "metadata": {},
   "source": [
    "### Apply ANN"
   ]
  },
  {
   "cell_type": "code",
   "execution_count": 33,
   "metadata": {},
   "outputs": [],
   "source": [
    "classifier = Sequential()\n",
    "classifier.add(Dense(10,input_dim = 8,activation = \"relu\"))\n",
    "\n",
    "## second hidden layer\n",
    "classifier.add(Dense(8,activation='relu'))\n",
    "\n",
    "classifier.add(Dense(1,activation = \"linear\"))"
   ]
  },
  {
   "cell_type": "code",
   "execution_count": 34,
   "metadata": {},
   "outputs": [],
   "source": [
    "## if target dummy encoding use categorical_crossentropy if use label encoding use sparse_categorical_crossentropy\n",
    "classifier.compile(optimizer = 'adam' , loss = 'mse',  \n",
    "                   metrics = ['mse'] ) "
   ]
  },
  {
   "cell_type": "code",
   "execution_count": 35,
   "metadata": {
    "scrolled": true
   },
   "outputs": [
    {
     "name": "stdout",
     "output_type": "stream",
     "text": [
      "Epoch 1/100\n",
      "24/24 [==============================] - 1s 2ms/step - loss: 18824.7756 - mse: 18824.7756\n",
      "Epoch 2/100\n",
      "24/24 [==============================] - 0s 2ms/step - loss: 20844.0150 - mse: 20844.0150\n",
      "Epoch 3/100\n",
      "24/24 [==============================] - 0s 2ms/step - loss: 21034.4066 - mse: 21034.4066\n",
      "Epoch 4/100\n",
      "24/24 [==============================] - 0s 2ms/step - loss: 21785.1067 - mse: 21785.1067\n",
      "Epoch 5/100\n",
      "24/24 [==============================] - 0s 2ms/step - loss: 16766.3743 - mse: 16766.3743\n",
      "Epoch 6/100\n",
      "24/24 [==============================] - 0s 2ms/step - loss: 19805.6353 - mse: 19805.6353\n",
      "Epoch 7/100\n",
      "24/24 [==============================] - 0s 3ms/step - loss: 18901.5041 - mse: 18901.5041\n",
      "Epoch 8/100\n",
      "24/24 [==============================] - 0s 2ms/step - loss: 17841.9164 - mse: 17841.9164\n",
      "Epoch 9/100\n",
      "24/24 [==============================] - 0s 2ms/step - loss: 16810.5518 - mse: 16810.5518\n",
      "Epoch 10/100\n",
      "24/24 [==============================] - 0s 2ms/step - loss: 17400.2064 - mse: 17400.2064\n",
      "Epoch 11/100\n",
      "24/24 [==============================] - 0s 2ms/step - loss: 17624.0720 - mse: 17624.0720\n",
      "Epoch 12/100\n",
      "24/24 [==============================] - 0s 2ms/step - loss: 16276.5108 - mse: 16276.5108\n",
      "Epoch 13/100\n",
      "24/24 [==============================] - 0s 2ms/step - loss: 15198.4173 - mse: 15198.4173\n",
      "Epoch 14/100\n",
      "24/24 [==============================] - 0s 2ms/step - loss: 13043.0182 - mse: 13043.0182\n",
      "Epoch 15/100\n",
      "24/24 [==============================] - 0s 2ms/step - loss: 11628.2376 - mse: 11628.2376\n",
      "Epoch 16/100\n",
      "24/24 [==============================] - 0s 2ms/step - loss: 11003.8042 - mse: 11003.8042\n",
      "Epoch 17/100\n",
      "24/24 [==============================] - 0s 1ms/step - loss: 9900.6144 - mse: 9900.6144\n",
      "Epoch 18/100\n",
      "24/24 [==============================] - 0s 1ms/step - loss: 7231.5482 - mse: 7231.5482\n",
      "Epoch 19/100\n",
      "24/24 [==============================] - 0s 2ms/step - loss: 6497.9148 - mse: 6497.9148\n",
      "Epoch 20/100\n",
      "24/24 [==============================] - 0s 1ms/step - loss: 5906.8201 - mse: 5906.8201\n",
      "Epoch 21/100\n",
      "24/24 [==============================] - 0s 2ms/step - loss: 4628.0729 - mse: 4628.0729\n",
      "Epoch 22/100\n",
      "24/24 [==============================] - 0s 2ms/step - loss: 4891.6812 - mse: 4891.6812\n",
      "Epoch 23/100\n",
      "24/24 [==============================] - 0s 2ms/step - loss: 4207.2226 - mse: 4207.2226\n",
      "Epoch 24/100\n",
      "24/24 [==============================] - 0s 2ms/step - loss: 4050.1977 - mse: 4050.1977\n",
      "Epoch 25/100\n",
      "24/24 [==============================] - 0s 2ms/step - loss: 4692.2741 - mse: 4692.2741\n",
      "Epoch 26/100\n",
      "24/24 [==============================] - 0s 1ms/step - loss: 4203.7734 - mse: 4203.7734\n",
      "Epoch 27/100\n",
      "24/24 [==============================] - 0s 2ms/step - loss: 4955.6179 - mse: 4955.6179\n",
      "Epoch 28/100\n",
      "24/24 [==============================] - 0s 1ms/step - loss: 4044.1731 - mse: 4044.1731\n",
      "Epoch 29/100\n",
      "24/24 [==============================] - 0s 1ms/step - loss: 4103.0979 - mse: 4103.0979\n",
      "Epoch 30/100\n",
      "24/24 [==============================] - 0s 2ms/step - loss: 3910.5955 - mse: 3910.5955\n",
      "Epoch 31/100\n",
      "24/24 [==============================] - 0s 2ms/step - loss: 3995.9214 - mse: 3995.9214\n",
      "Epoch 32/100\n",
      "24/24 [==============================] - 0s 2ms/step - loss: 4149.6313 - mse: 4149.6313\n",
      "Epoch 33/100\n",
      "24/24 [==============================] - 0s 2ms/step - loss: 3798.3117 - mse: 3798.3117\n",
      "Epoch 34/100\n",
      "24/24 [==============================] - 0s 2ms/step - loss: 3470.8135 - mse: 3470.8135\n",
      "Epoch 35/100\n",
      "24/24 [==============================] - 0s 2ms/step - loss: 3817.1096 - mse: 3817.1096\n",
      "Epoch 36/100\n",
      "24/24 [==============================] - 0s 2ms/step - loss: 3714.8630 - mse: 3714.8630\n",
      "Epoch 37/100\n",
      "24/24 [==============================] - 0s 2ms/step - loss: 3865.8792 - mse: 3865.8792\n",
      "Epoch 38/100\n",
      "24/24 [==============================] - 0s 2ms/step - loss: 4020.5267 - mse: 4020.5267\n",
      "Epoch 39/100\n",
      "24/24 [==============================] - 0s 3ms/step - loss: 4369.6032 - mse: 4369.6032\n",
      "Epoch 40/100\n",
      "24/24 [==============================] - 0s 3ms/step - loss: 3648.7508 - mse: 3648.7508\n",
      "Epoch 41/100\n",
      "24/24 [==============================] - 0s 3ms/step - loss: 4095.2365 - mse: 4095.2365\n",
      "Epoch 42/100\n",
      "24/24 [==============================] - 0s 2ms/step - loss: 3932.0263 - mse: 3932.0263\n",
      "Epoch 43/100\n",
      "24/24 [==============================] - 0s 2ms/step - loss: 3743.6382 - mse: 3743.6382\n",
      "Epoch 44/100\n",
      "24/24 [==============================] - 0s 2ms/step - loss: 3572.1310 - mse: 3572.1310\n",
      "Epoch 45/100\n",
      "24/24 [==============================] - 0s 2ms/step - loss: 3636.8326 - mse: 3636.8326\n",
      "Epoch 46/100\n",
      "24/24 [==============================] - 0s 3ms/step - loss: 3528.6014 - mse: 3528.6014\n",
      "Epoch 47/100\n",
      "24/24 [==============================] - 0s 2ms/step - loss: 3330.9845 - mse: 3330.9845\n",
      "Epoch 48/100\n",
      "24/24 [==============================] - 0s 3ms/step - loss: 3292.1969 - mse: 3292.1969\n",
      "Epoch 49/100\n",
      "24/24 [==============================] - 0s 2ms/step - loss: 3276.2528 - mse: 3276.2528\n",
      "Epoch 50/100\n",
      "24/24 [==============================] - 0s 2ms/step - loss: 3388.1064 - mse: 3388.1064\n",
      "Epoch 51/100\n",
      "24/24 [==============================] - 0s 3ms/step - loss: 3627.6337 - mse: 3627.6337\n",
      "Epoch 52/100\n",
      "24/24 [==============================] - 0s 2ms/step - loss: 3241.7385 - mse: 3241.7385\n",
      "Epoch 53/100\n",
      "24/24 [==============================] - 0s 1ms/step - loss: 3053.7724 - mse: 3053.7724\n",
      "Epoch 54/100\n",
      "24/24 [==============================] - 0s 2ms/step - loss: 3617.1835 - mse: 3617.1835\n",
      "Epoch 55/100\n",
      "24/24 [==============================] - 0s 1ms/step - loss: 3515.9647 - mse: 3515.9647\n",
      "Epoch 56/100\n",
      "24/24 [==============================] - 0s 2ms/step - loss: 3572.2234 - mse: 3572.2234\n",
      "Epoch 57/100\n",
      "24/24 [==============================] - 0s 1ms/step - loss: 3456.2108 - mse: 3456.2108\n",
      "Epoch 58/100\n",
      "24/24 [==============================] - 0s 2ms/step - loss: 3295.5250 - mse: 3295.5250\n",
      "Epoch 59/100\n",
      "24/24 [==============================] - 0s 2ms/step - loss: 3416.6188 - mse: 3416.6188\n",
      "Epoch 60/100\n",
      "24/24 [==============================] - 0s 3ms/step - loss: 3259.5460 - mse: 3259.5460\n",
      "Epoch 61/100\n",
      "24/24 [==============================] - 0s 3ms/step - loss: 2474.2615 - mse: 2474.2615\n",
      "Epoch 62/100\n",
      "24/24 [==============================] - 0s 3ms/step - loss: 3077.8191 - mse: 3077.8191\n",
      "Epoch 63/100\n",
      "24/24 [==============================] - 0s 2ms/step - loss: 3289.0729 - mse: 3289.0729\n",
      "Epoch 64/100\n",
      "24/24 [==============================] - 0s 2ms/step - loss: 3362.5757 - mse: 3362.5757\n",
      "Epoch 65/100\n",
      "24/24 [==============================] - 0s 1ms/step - loss: 2977.3545 - mse: 2977.3545\n",
      "Epoch 66/100\n",
      "24/24 [==============================] - 0s 1ms/step - loss: 3473.0505 - mse: 3473.0505\n",
      "Epoch 67/100\n",
      "24/24 [==============================] - 0s 2ms/step - loss: 3208.0296 - mse: 3208.0296\n",
      "Epoch 68/100\n",
      "24/24 [==============================] - 0s 1ms/step - loss: 3308.2392 - mse: 3308.2392\n",
      "Epoch 69/100\n",
      "24/24 [==============================] - 0s 1ms/step - loss: 3245.7720 - mse: 3245.7720\n",
      "Epoch 70/100\n",
      "24/24 [==============================] - 0s 1ms/step - loss: 2984.8659 - mse: 2984.8659\n",
      "Epoch 71/100\n",
      "24/24 [==============================] - 0s 2ms/step - loss: 2709.5765 - mse: 2709.5765\n",
      "Epoch 72/100\n",
      "24/24 [==============================] - 0s 1ms/step - loss: 2798.2167 - mse: 2798.2167\n",
      "Epoch 73/100\n",
      "24/24 [==============================] - 0s 1ms/step - loss: 3054.2676 - mse: 3054.2676\n",
      "Epoch 74/100\n",
      "24/24 [==============================] - 0s 1ms/step - loss: 2809.3891 - mse: 2809.3891\n",
      "Epoch 75/100\n",
      "24/24 [==============================] - 0s 1ms/step - loss: 3126.1010 - mse: 3126.1010\n",
      "Epoch 76/100\n",
      "24/24 [==============================] - 0s 1ms/step - loss: 2964.6829 - mse: 2964.6829\n",
      "Epoch 77/100\n",
      "24/24 [==============================] - 0s 1ms/step - loss: 3198.1981 - mse: 3198.1981\n",
      "Epoch 78/100\n",
      "24/24 [==============================] - 0s 1ms/step - loss: 2853.7523 - mse: 2853.7523\n",
      "Epoch 79/100\n",
      "24/24 [==============================] - 0s 2ms/step - loss: 3313.4687 - mse: 3313.4687\n",
      "Epoch 80/100\n",
      "24/24 [==============================] - 0s 1ms/step - loss: 3096.9029 - mse: 3096.9029\n",
      "Epoch 81/100\n"
     ]
    },
    {
     "name": "stdout",
     "output_type": "stream",
     "text": [
      "24/24 [==============================] - 0s 1ms/step - loss: 2762.9977 - mse: 2762.9977\n",
      "Epoch 82/100\n",
      "24/24 [==============================] - 0s 2ms/step - loss: 3250.3267 - mse: 3250.3267\n",
      "Epoch 83/100\n",
      "24/24 [==============================] - 0s 2ms/step - loss: 3168.5063 - mse: 3168.5063\n",
      "Epoch 84/100\n",
      "24/24 [==============================] - 0s 3ms/step - loss: 3059.3173 - mse: 3059.3173\n",
      "Epoch 85/100\n",
      "24/24 [==============================] - 0s 3ms/step - loss: 2867.3635 - mse: 2867.3635\n",
      "Epoch 86/100\n",
      "24/24 [==============================] - 0s 3ms/step - loss: 3156.1023 - mse: 3156.1023\n",
      "Epoch 87/100\n",
      "24/24 [==============================] - 0s 2ms/step - loss: 3006.4400 - mse: 3006.4400\n",
      "Epoch 88/100\n",
      "24/24 [==============================] - 0s 2ms/step - loss: 2944.2084 - mse: 2944.2084\n",
      "Epoch 89/100\n",
      "24/24 [==============================] - 0s 2ms/step - loss: 2874.7195 - mse: 2874.7195\n",
      "Epoch 90/100\n",
      "24/24 [==============================] - 0s 1ms/step - loss: 3054.1401 - mse: 3054.1401\n",
      "Epoch 91/100\n",
      "24/24 [==============================] - 0s 1ms/step - loss: 2761.2705 - mse: 2761.2705\n",
      "Epoch 92/100\n",
      "24/24 [==============================] - 0s 1ms/step - loss: 3292.2244 - mse: 3292.2244\n",
      "Epoch 93/100\n",
      "24/24 [==============================] - 0s 2ms/step - loss: 2737.4959 - mse: 2737.4959\n",
      "Epoch 94/100\n",
      "24/24 [==============================] - 0s 2ms/step - loss: 2750.0833 - mse: 2750.0833\n",
      "Epoch 95/100\n",
      "24/24 [==============================] - 0s 2ms/step - loss: 2760.6918 - mse: 2760.6918\n",
      "Epoch 96/100\n",
      "24/24 [==============================] - 0s 2ms/step - loss: 3014.7141 - mse: 3014.7141\n",
      "Epoch 97/100\n",
      "24/24 [==============================] - 0s 1ms/step - loss: 2796.5614 - mse: 2796.5614\n",
      "Epoch 98/100\n",
      "24/24 [==============================] - 0s 2ms/step - loss: 3012.5000 - mse: 3012.5000\n",
      "Epoch 99/100\n",
      "24/24 [==============================] - 0s 2ms/step - loss: 3058.5497 - mse: 3058.5497\n",
      "Epoch 100/100\n",
      "24/24 [==============================] - 0s 2ms/step - loss: 3017.5257 - mse: 3017.5257\n"
     ]
    },
    {
     "data": {
      "text/plain": [
       "<tensorflow.python.keras.callbacks.History at 0x20e850a9f08>"
      ]
     },
     "execution_count": 35,
     "metadata": {},
     "output_type": "execute_result"
    }
   ],
   "source": [
    "classifier.fit(X_train , y_train ,epochs = 100) "
   ]
  },
  {
   "cell_type": "code",
   "execution_count": 36,
   "metadata": {},
   "outputs": [
    {
     "name": "stdout",
     "output_type": "stream",
     "text": [
      "11/11 [==============================] - 0s 2ms/step - loss: 3349.8369 - mse: 3349.8369\n"
     ]
    },
    {
     "data": {
      "text/plain": [
       "[3349.8369140625, 3349.8369140625]"
      ]
     },
     "execution_count": 36,
     "metadata": {},
     "output_type": "execute_result"
    }
   ],
   "source": [
    "classifier.evaluate(X_test, y_test)"
   ]
  },
  {
   "cell_type": "code",
   "execution_count": 37,
   "metadata": {},
   "outputs": [],
   "source": [
    "y_pred = classifier.predict(X_test)"
   ]
  },
  {
   "cell_type": "code",
   "execution_count": 38,
   "metadata": {},
   "outputs": [
    {
     "name": "stdout",
     "output_type": "stream",
     "text": [
      "MAE 40.52856917885261\n",
      "MSE 3349.837197332338\n",
      "RMSE 57.87777809602177\n"
     ]
    }
   ],
   "source": [
    "print(\"MAE\",mean_absolute_error(y_test,y_pred))\n",
    "print(\"MSE\",mean_squared_error(y_test,y_pred))\n",
    "print(\"RMSE\",mean_squared_error(y_test,y_pred,squared=False))"
   ]
  }
 ],
 "metadata": {
  "kernelspec": {
   "display_name": "Python 3",
   "language": "python",
   "name": "python3"
  },
  "language_info": {
   "codemirror_mode": {
    "name": "ipython",
    "version": 3
   },
   "file_extension": ".py",
   "mimetype": "text/x-python",
   "name": "python",
   "nbconvert_exporter": "python",
   "pygments_lexer": "ipython3",
   "version": "3.7.6"
  }
 },
 "nbformat": 4,
 "nbformat_minor": 4
}
