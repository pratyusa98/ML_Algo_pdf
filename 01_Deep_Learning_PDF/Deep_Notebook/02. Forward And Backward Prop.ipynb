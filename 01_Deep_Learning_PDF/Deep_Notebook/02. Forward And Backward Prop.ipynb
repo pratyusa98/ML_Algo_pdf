{
 "cells": [
  {
   "cell_type": "markdown",
   "metadata": {},
   "source": [
    "# Forward And Backward Propogation "
   ]
  },
  {
   "cell_type": "markdown",
   "metadata": {},
   "source": [
    "Every Neural Network has 2 main parts:\n",
    "\n",
    "            1. Feed Forward Propogation/Forward Propogation.\n",
    "            2. Backward Propogation/Back propogation. \n",
    "          \n",
    "  <br> <img src=\"7.png\" style=\"height:350px;border: 5px solid #555;\">"
   ]
  },
  {
   "cell_type": "markdown",
   "metadata": {},
   "source": [
    "##  Feed Forward Propogation:\n",
    "\n",
    "- All weights in the network are randomly assigned. Assume the weights of the connections from the inputs to that node are w1, w2 and w3.\n",
    "\n",
    "- Here I take an example to better understand of this two concept\n",
    "- Let take an example of if you study 35 Hour per day then you definitly Pass the exam with 67 Mark. Now we apply this.\n",
    "<br><br>\n",
    "     - Input to the network  = [35, 67]\n",
    "     - Desired output from the network (target) = [1, 0] 1 means PASS and 0 means Fail\n",
    "     \n",
    "Then output V from the node in consideration can be calculated as below (f is an activation function such as sigmoid):\n",
    "<center>V = f (1*w1 + 35*w2 + 67*w3)</center>\n",
    "\n",
    "- Similarly, outputs from the other node in the hidden layer is also calculated. The outputs of the two nodes in the hidden layer act as inputs to the two nodes in the output layer. This enables us to calculate output probabilities from the two nodes in output layer.\n",
    "\n",
    "<img src=\"9.png\" style=\"height:250px\">\n",
    "\n",
    "- Suppose the output probabilities from the two nodes in the output layer are 0.4 and 0.6 respectively (since the weights are randomly assigned, outputs will also be random). We can see that the calculated probabilities (0.4 and 0.6) are very far from the desired probabilities (1 and 0 respectively), hence the network in above Figure is said to have an ‘Incorrect Output’. As it give output as fail but it not happen that one study 35 hr and secure 67.\n",
    "- here Weight are randomly assigned so now we do Back Propagation and with Weight Updation."
   ]
  },
  {
   "cell_type": "markdown",
   "metadata": {},
   "source": [
    "## Back Propagation and Weight Updation:\n",
    "\n",
    "- Here We calculate the total error at the output nodes and propagate these errors back through the network using Backpropagation to calculate the gradients.\n",
    "- Then we use an optimization method such as Gradient Descent to ‘adjust’ all weights in the network with an aim of reducing the error at the output layer.\n",
    "\n",
    "<img src=\"10.png\">\n",
    "\n",
    "- If we now input the same example to the network again, the network should perform better than before since the weights have now been adjusted to minimize the error in prediction.\n",
    "<img src=\"11.png\">\n",
    "- As shown in above Figure, the errors at the output nodes now reduce to [0.2, -0.2] as compared to [0.6, -0.4] earlier. This means that our network has learnt to correctly classify our first training example.\n",
    "\n",
    "- We repeat this process with all other training examples in our dataset. Then, our network is said to have learnt those examples."
   ]
  },
  {
   "cell_type": "raw",
   "metadata": {},
   "source": [
    "1. Thanks To https://medium.com/@purnasaigudikandula/a-beginner-intro-to-neural-networks-543267bda3c8#:~:text=Neural%20networks%20are%20set%20of,the%20functioning%20of%20human%20brian.&text=That's%20how%20similar%20the%20Neural,and%20outputs%20what%20it%20is.\n",
    "2. http://home.agh.edu.pl/~vlsi/AI/backp_t_en/backprop.html"
   ]
  }
 ],
 "metadata": {
  "kernelspec": {
   "display_name": "Python 3",
   "language": "python",
   "name": "python3"
  },
  "language_info": {
   "codemirror_mode": {
    "name": "ipython",
    "version": 3
   },
   "file_extension": ".py",
   "mimetype": "text/x-python",
   "name": "python",
   "nbconvert_exporter": "python",
   "pygments_lexer": "ipython3",
   "version": "3.7.6"
  }
 },
 "nbformat": 4,
 "nbformat_minor": 4
}
