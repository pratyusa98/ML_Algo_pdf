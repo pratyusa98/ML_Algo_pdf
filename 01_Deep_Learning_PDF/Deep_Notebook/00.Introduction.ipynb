{
 "cells": [
  {
   "cell_type": "markdown",
   "metadata": {},
   "source": [
    "<img src=\"1.png\" style=\"height:300px\">"
   ]
  },
  {
   "cell_type": "markdown",
   "metadata": {},
   "source": [
    "<center style=\"font-size:35px;\">Deep Learning Introduction</center><hr>"
   ]
  },
  {
   "cell_type": "markdown",
   "metadata": {},
   "source": [
    "- Deep learning is a branch of machine learning which is completely based on artificial neural networks, as neural network is going to mimic the human brain so deep learning is also a kind of mimic of human brain.\n",
    "- it is an artificial intelligence (AI) function that imitates the workings of the human brain in processing data and creating patterns for use in decision making."
   ]
  },
  {
   "cell_type": "markdown",
   "metadata": {},
   "source": [
    "### KEY TAKEAWAYS\n",
    "* Deep learning is an AI function that mimics the workings of the human brain in processing data for use in detecting objects, recognizing speech, translating languages, and making decisions.\n",
    "* Deep learning AI is able to learn without human supervision, drawing from data that is both unstructured and unlabeled.\n",
    "* Deep learning, a form of machine learning, can be used to help detect fraud or money laundering, among other functions."
   ]
  },
  {
   "cell_type": "markdown",
   "metadata": {},
   "source": [
    "## Key Difference between Machine Learning and Deep Learning :"
   ]
  },
  {
   "cell_type": "markdown",
   "metadata": {},
   "source": [
    "<img src=\"2.png\">"
   ]
  },
  {
   "cell_type": "markdown",
   "metadata": {},
   "source": [
    "### Types of Deep Learning Algorithms That I Coverd In Notebook\n",
    "1. Multilayer Perceptrons (MLPs)\n",
    "2. Convolutional Neural Networks (CNNs)\n",
    "3. Recurrent Neural Networks (RNNs)\n",
    "4. Long Short Term Memory Networks (LSTMs)\n",
    "5. Generative Adversarial Networks (GANs)\n",
    "6. Restricted Boltzmann Machines( RBMs)\n",
    "7. Autoencoders\n",
    "8. Self Organizing Maps (SOMs)\n",
    "\n",
    "There are so many techniques but in my note book i will focus on this 8 topic."
   ]
  }
 ],
 "metadata": {
  "kernelspec": {
   "display_name": "Python 3",
   "language": "python",
   "name": "python3"
  },
  "language_info": {
   "codemirror_mode": {
    "name": "ipython",
    "version": 3
   },
   "file_extension": ".py",
   "mimetype": "text/x-python",
   "name": "python",
   "nbconvert_exporter": "python",
   "pygments_lexer": "ipython3",
   "version": "3.7.6"
  }
 },
 "nbformat": 4,
 "nbformat_minor": 4
}
