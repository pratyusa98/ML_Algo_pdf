{
 "cells": [
  {
   "cell_type": "markdown",
   "metadata": {},
   "source": [
    "### 3. Relu\n",
    "- By Using of Sigmoid And Tanh function there is vanishing gradient problem occure so the convergence rate slow down.\n",
    "- To overcome slighlty we use Relu Function. it not totally overcome this problem but here the convergence rate is faster than sigmoid and tanh.\n",
    "- Value Range :- [0, inf)\n",
    "- Its Nature non-linear, which means we can easily backpropagate the errors and have multiple layers of neurons being activated by the ReLU function.\n",
    "<img src=\"20.png\" style=\"height:350px;\">\n",
    "\n",
    "##### Point:\n",
    "1. <u>Vanishing Gradient Problem</u> occure due to multiple number of derivative.\n",
    "2. As sigmoid derivative 0 to 0.25 so by multiple by this sigmoid derivative the result might vanishing gradient as number of hidden layer increase.\n",
    "3. But in Relu here its derivative 0 to 1 so here no problem of any vanishing gradient problem as its derivative cant be 0.2,0.3 like. \n",
    "4. But as its derivative can be 0 so here a problem aries that called Dead_Activation\n",
    "\n",
    "<b>Uses :-</b> ReLu is less computationally expensive than tanh and sigmoid because it involves simpler mathematical operations. At a time only a few neurons are activated making the network sparse making it efficient and easy for computation.\n",
    "\n",
    "### What is Dead_Activation ?\n",
    "- When Derivative equal to 0 in Relu Then New Weight = Old Weight : <img src='21.png'>\n",
    "\n",
    "which is not good for any model.Here Weight Cant be update. it occure when value of z is negative.This state called Dead Activation state. to overcome this we use Leaky Relu.\n",
    "<img src=\"22.png\">\n",
    "- See here no updation happen the value remain same and ‘nan’ for validation loss is an unexpected very large or very small number. This is dead activation state to overcome this we use leaky relu"
   ]
  },
  {
   "cell_type": "markdown",
   "metadata": {},
   "source": [
    "### mplementing the ReLu function in NumPy is very straight forward:"
   ]
  },
  {
   "cell_type": "code",
   "execution_count": 1,
   "metadata": {},
   "outputs": [
    {
     "name": "stdout",
     "output_type": "stream",
     "text": [
      "[[1 2 3]\n",
      " [4 5 6]]\n"
     ]
    }
   ],
   "source": [
    "import numpy as np\n",
    "mmatrix= np.array([[1,2,3],[4,5,6]])\n",
    "print(mmatrix)"
   ]
  },
  {
   "cell_type": "code",
   "execution_count": 2,
   "metadata": {},
   "outputs": [
    {
     "data": {
      "text/plain": [
       "array([[1, 2, 3],\n",
       "       [4, 5, 6]])"
      ]
     },
     "execution_count": 2,
     "metadata": {},
     "output_type": "execute_result"
    }
   ],
   "source": [
    "#ReLu function\n",
    "def relu(X):\n",
    "   return np.maximum(0,X)\n",
    "#Example with mmatrix defined above\n",
    "relu(mmatrix)"
   ]
  },
  {
   "cell_type": "markdown",
   "metadata": {},
   "source": [
    "## 4. Leaky Relu\n",
    "- Leaky ReLU is an improved version of the ReLU function.\n",
    "- ReLU function, the gradient is 0 for x < 0(-ve), which made the neurons die for activations in that region.\n",
    "- Leaky ReLU is defined to address this problem. Instead of defining the Relu function as 0 for x less than 0, we define it as a small linear component of x. \n",
    "- Leaky ReLUs are one attempt to fix the Dying ReLU problem. Instead of the function being zero when x < 0, a leaky ReLU will instead have a small negative slope (of 0.01, or so). That is, the function computes:\n",
    "<img src=\"23.png\">\n",
    "<img src=\"24.png\"  style=\"height:350px\">"
   ]
  },
  {
   "cell_type": "code",
   "execution_count": 3,
   "metadata": {},
   "outputs": [
    {
     "name": "stdout",
     "output_type": "stream",
     "text": [
      "[[ 0.87916693  0.18566813 -0.00252958  0.85384231 -0.01014912]]\n",
      "[[ 0.87916693  0.18566813 -0.00252958  0.85384231 -0.01014912]]\n"
     ]
    }
   ],
   "source": [
    "### Here are two approaches to implement leaky_relu:\n",
    "import numpy as np                                                 \n",
    "\n",
    "x = np.random.normal(size=[1, 5])\n",
    "\n",
    "# first approach                           \n",
    "leaky_way1 = np.where(x > 0, x, x * 0.01)                          \n",
    "\n",
    "# second approach                                                                   \n",
    "y1 = ((x > 0) * x)                                                 \n",
    "y2 = ((x <= 0) * x * 0.01)                                         \n",
    "leaky_way2 = y1 + y2  \n",
    "\n",
    "print(leaky_way1)\n",
    "print(leaky_way2)"
   ]
  },
  {
   "cell_type": "markdown",
   "metadata": {},
   "source": [
    "### Sigmoid,Tanh,Relu,Leaky Relu\n",
    "\n",
    "<img src=\"26.png\">"
   ]
  }
 ],
 "metadata": {
  "kernelspec": {
   "display_name": "Python 3",
   "language": "python",
   "name": "python3"
  },
  "language_info": {
   "codemirror_mode": {
    "name": "ipython",
    "version": 3
   },
   "file_extension": ".py",
   "mimetype": "text/x-python",
   "name": "python",
   "nbconvert_exporter": "python",
   "pygments_lexer": "ipython3",
   "version": "3.7.6"
  }
 },
 "nbformat": 4,
 "nbformat_minor": 4
}
